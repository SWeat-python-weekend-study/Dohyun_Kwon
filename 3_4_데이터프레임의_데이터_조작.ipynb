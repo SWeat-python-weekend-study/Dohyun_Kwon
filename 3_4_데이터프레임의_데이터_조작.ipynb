{
  "nbformat": 4,
  "nbformat_minor": 0,
  "metadata": {
    "celltoolbar": "Edit Metadata",
    "kernelspec": {
      "display_name": "Python 3",
      "language": "python",
      "name": "python3"
    },
    "language_info": {
      "codemirror_mode": {
        "name": "ipython",
        "version": 3
      },
      "file_extension": ".py",
      "mimetype": "text/x-python",
      "name": "python",
      "nbconvert_exporter": "python",
      "pygments_lexer": "ipython3",
      "version": "3.7.6"
    },
    "latex_envs": {
      "LaTeX_envs_menu_present": true,
      "autoclose": false,
      "autocomplete": true,
      "bibliofile": "biblio.bib",
      "cite_by": "apalike",
      "current_citInitial": 1,
      "eqLabelWithNumbers": true,
      "eqNumInitial": 1,
      "hotkeys": {
        "equation": "Ctrl-E",
        "itemize": "Ctrl-I"
      },
      "labels_anchors": false,
      "latex_user_defs": false,
      "report_style_numbering": false,
      "user_envs_cfg": false
    },
    "colab": {
      "name": "3-4.데이터프레임의 데이터 조작.ipynb",
      "provenance": [],
      "toc_visible": true,
      "include_colab_link": true
    }
  },
  "cells": [
    {
      "cell_type": "markdown",
      "metadata": {
        "id": "view-in-github",
        "colab_type": "text"
      },
      "source": [
        "<a href=\"https://colab.research.google.com/github/SWeat-python-weekend-study/Dohyun_Kwon/blob/main/3_4_%EB%8D%B0%EC%9D%B4%ED%84%B0%ED%94%84%EB%A0%88%EC%9E%84%EC%9D%98_%EB%8D%B0%EC%9D%B4%ED%84%B0_%EC%A1%B0%EC%9E%91.ipynb\" target=\"_parent\"><img src=\"https://colab.research.google.com/assets/colab-badge.svg\" alt=\"Open In Colab\"/></a>"
      ]
    },
    {
      "cell_type": "markdown",
      "metadata": {
        "school_cell_uuid": "3fd41a030d7c44f69578ad1b99db7437",
        "id": "Qf-X6i3eBs8x"
      },
      "source": [
        "# 3.4 데이터프레임의 데이터 조작"
      ]
    },
    {
      "cell_type": "markdown",
      "metadata": {
        "school_cell_uuid": "0963b108717745d2b82b4941ae59cd67",
        "id": "jPlwtATPBs99"
      },
      "source": [
        "판다스는 넘파이 2차원 배열에서 가능한 대부분의 데이터 처리가 가능하며 추가로 데이터 처리 및 변환을 위한 다양한 함수와 메서드를 제공한다."
      ]
    },
    {
      "cell_type": "markdown",
      "metadata": {
        "school_cell_uuid": "54394646eb4e488c84bb91908bc326d0",
        "id": "uVrbiy9wBs-C"
      },
      "source": [
        "## 데이터 갯수 세기"
      ]
    },
    {
      "cell_type": "markdown",
      "metadata": {
        "id": "eockn4w5Bs-E"
      },
      "source": [
        "```{margin}\n",
        "`count`\n",
        "```"
      ]
    },
    {
      "cell_type": "markdown",
      "metadata": {
        "school_cell_uuid": "ec160e26453644cb9896704dadfb0b5c",
        "id": "o3iR1vmQBs-F"
      },
      "source": [
        "가장 간단한 데이터 분석은 데이터의 갯수를 세는 것이다. `count` 메서드를 사용한다. NaN 값은 세지 않는다."
      ]
    },
    {
      "cell_type": "code",
      "metadata": {
        "id": "LuYWe7TOCYkN"
      },
      "source": [
        "import pandas as pd\r\n",
        "import numpy as np"
      ],
      "execution_count": 1,
      "outputs": []
    },
    {
      "cell_type": "code",
      "metadata": {
        "school_cell_uuid": "87f90076786847f49036d99249e4ee6a",
        "id": "yzTlXtKwBs-H",
        "colab": {
          "base_uri": "https://localhost:8080/"
        },
        "outputId": "4148c8aa-c370-4c10-cb11-ab74063d0202"
      },
      "source": [
        "s = pd.Series(range(10))\n",
        "s[3] = np.nan\n",
        "s"
      ],
      "execution_count": 2,
      "outputs": [
        {
          "output_type": "execute_result",
          "data": {
            "text/plain": [
              "0    0.0\n",
              "1    1.0\n",
              "2    2.0\n",
              "3    NaN\n",
              "4    4.0\n",
              "5    5.0\n",
              "6    6.0\n",
              "7    7.0\n",
              "8    8.0\n",
              "9    9.0\n",
              "dtype: float64"
            ]
          },
          "metadata": {
            "tags": []
          },
          "execution_count": 2
        }
      ]
    },
    {
      "cell_type": "code",
      "metadata": {
        "school_cell_uuid": "689ceffec1134035b8ab1bb31822eb72",
        "id": "8PNcjf5aBs-g",
        "colab": {
          "base_uri": "https://localhost:8080/"
        },
        "outputId": "d3c63bc1-586c-4c4f-ac40-6329d2d9a51a"
      },
      "source": [
        "s.count()"
      ],
      "execution_count": 3,
      "outputs": [
        {
          "output_type": "execute_result",
          "data": {
            "text/plain": [
              "9"
            ]
          },
          "metadata": {
            "tags": []
          },
          "execution_count": 3
        }
      ]
    },
    {
      "cell_type": "markdown",
      "metadata": {
        "school_cell_uuid": "66076050617144f09682db0dfed06b0e",
        "id": "VPVOxYyTBs-i"
      },
      "source": [
        "데이터프레임에서는 각 열마다 별도로 데이터 갯수를 센다. 데이터에서 값이 누락된 부분을 찾을 때 유용하다."
      ]
    },
    {
      "cell_type": "code",
      "metadata": {
        "school_cell_uuid": "1c05d676360a4f66935610e846562ddb",
        "id": "1ffIghe9Bs-7",
        "colab": {
          "base_uri": "https://localhost:8080/",
          "height": 173
        },
        "outputId": "9d9f1546-093d-4185-cf87-4d01fc7d7dae"
      },
      "source": [
        "np.random.seed(2)\n",
        "df = pd.DataFrame(np.random.randint(5, size=(4, 4)), dtype=float)\n",
        "df.iloc[2, 3] = np.nan\n",
        "df"
      ],
      "execution_count": 4,
      "outputs": [
        {
          "output_type": "execute_result",
          "data": {
            "text/html": [
              "<div>\n",
              "<style scoped>\n",
              "    .dataframe tbody tr th:only-of-type {\n",
              "        vertical-align: middle;\n",
              "    }\n",
              "\n",
              "    .dataframe tbody tr th {\n",
              "        vertical-align: top;\n",
              "    }\n",
              "\n",
              "    .dataframe thead th {\n",
              "        text-align: right;\n",
              "    }\n",
              "</style>\n",
              "<table border=\"1\" class=\"dataframe\">\n",
              "  <thead>\n",
              "    <tr style=\"text-align: right;\">\n",
              "      <th></th>\n",
              "      <th>0</th>\n",
              "      <th>1</th>\n",
              "      <th>2</th>\n",
              "      <th>3</th>\n",
              "    </tr>\n",
              "  </thead>\n",
              "  <tbody>\n",
              "    <tr>\n",
              "      <th>0</th>\n",
              "      <td>0.0</td>\n",
              "      <td>0.0</td>\n",
              "      <td>3.0</td>\n",
              "      <td>2.0</td>\n",
              "    </tr>\n",
              "    <tr>\n",
              "      <th>1</th>\n",
              "      <td>3.0</td>\n",
              "      <td>0.0</td>\n",
              "      <td>2.0</td>\n",
              "      <td>1.0</td>\n",
              "    </tr>\n",
              "    <tr>\n",
              "      <th>2</th>\n",
              "      <td>3.0</td>\n",
              "      <td>2.0</td>\n",
              "      <td>4.0</td>\n",
              "      <td>NaN</td>\n",
              "    </tr>\n",
              "    <tr>\n",
              "      <th>3</th>\n",
              "      <td>4.0</td>\n",
              "      <td>3.0</td>\n",
              "      <td>4.0</td>\n",
              "      <td>2.0</td>\n",
              "    </tr>\n",
              "  </tbody>\n",
              "</table>\n",
              "</div>"
            ],
            "text/plain": [
              "     0    1    2    3\n",
              "0  0.0  0.0  3.0  2.0\n",
              "1  3.0  0.0  2.0  1.0\n",
              "2  3.0  2.0  4.0  NaN\n",
              "3  4.0  3.0  4.0  2.0"
            ]
          },
          "metadata": {
            "tags": []
          },
          "execution_count": 4
        }
      ]
    },
    {
      "cell_type": "code",
      "metadata": {
        "school_cell_uuid": "6a29547057514467817bb4832f7deb26",
        "id": "NER9YctPBs--",
        "colab": {
          "base_uri": "https://localhost:8080/"
        },
        "outputId": "9baf499d-8a81-4654-90ea-c8a73c868b6c"
      },
      "source": [
        "df.count()"
      ],
      "execution_count": 5,
      "outputs": [
        {
          "output_type": "execute_result",
          "data": {
            "text/plain": [
              "0    4\n",
              "1    4\n",
              "2    4\n",
              "3    3\n",
              "dtype: int64"
            ]
          },
          "metadata": {
            "tags": []
          },
          "execution_count": 5
        }
      ]
    },
    {
      "cell_type": "markdown",
      "metadata": {
        "id": "6aASdLZEBs-_"
      },
      "source": [
        "다음 명령으로 타이타닉호의 승객 데이터를 데이터프레임으로 읽어올 수 있다. 이 명령을 실행하려면 seaborn 패키지가 설치되어 있어야 한다."
      ]
    },
    {
      "cell_type": "code",
      "metadata": {
        "id": "wcL514NGBs_A",
        "colab": {
          "base_uri": "https://localhost:8080/",
          "height": 204
        },
        "outputId": "e3000cc7-2bc2-49fc-8be3-962afcc2e23b"
      },
      "source": [
        "import seaborn as sns\n",
        "titanic = sns.load_dataset(\"titanic\")\n",
        "titanic.head()"
      ],
      "execution_count": 6,
      "outputs": [
        {
          "output_type": "execute_result",
          "data": {
            "text/html": [
              "<div>\n",
              "<style scoped>\n",
              "    .dataframe tbody tr th:only-of-type {\n",
              "        vertical-align: middle;\n",
              "    }\n",
              "\n",
              "    .dataframe tbody tr th {\n",
              "        vertical-align: top;\n",
              "    }\n",
              "\n",
              "    .dataframe thead th {\n",
              "        text-align: right;\n",
              "    }\n",
              "</style>\n",
              "<table border=\"1\" class=\"dataframe\">\n",
              "  <thead>\n",
              "    <tr style=\"text-align: right;\">\n",
              "      <th></th>\n",
              "      <th>survived</th>\n",
              "      <th>pclass</th>\n",
              "      <th>sex</th>\n",
              "      <th>age</th>\n",
              "      <th>sibsp</th>\n",
              "      <th>parch</th>\n",
              "      <th>fare</th>\n",
              "      <th>embarked</th>\n",
              "      <th>class</th>\n",
              "      <th>who</th>\n",
              "      <th>adult_male</th>\n",
              "      <th>deck</th>\n",
              "      <th>embark_town</th>\n",
              "      <th>alive</th>\n",
              "      <th>alone</th>\n",
              "    </tr>\n",
              "  </thead>\n",
              "  <tbody>\n",
              "    <tr>\n",
              "      <th>0</th>\n",
              "      <td>0</td>\n",
              "      <td>3</td>\n",
              "      <td>male</td>\n",
              "      <td>22.0</td>\n",
              "      <td>1</td>\n",
              "      <td>0</td>\n",
              "      <td>7.2500</td>\n",
              "      <td>S</td>\n",
              "      <td>Third</td>\n",
              "      <td>man</td>\n",
              "      <td>True</td>\n",
              "      <td>NaN</td>\n",
              "      <td>Southampton</td>\n",
              "      <td>no</td>\n",
              "      <td>False</td>\n",
              "    </tr>\n",
              "    <tr>\n",
              "      <th>1</th>\n",
              "      <td>1</td>\n",
              "      <td>1</td>\n",
              "      <td>female</td>\n",
              "      <td>38.0</td>\n",
              "      <td>1</td>\n",
              "      <td>0</td>\n",
              "      <td>71.2833</td>\n",
              "      <td>C</td>\n",
              "      <td>First</td>\n",
              "      <td>woman</td>\n",
              "      <td>False</td>\n",
              "      <td>C</td>\n",
              "      <td>Cherbourg</td>\n",
              "      <td>yes</td>\n",
              "      <td>False</td>\n",
              "    </tr>\n",
              "    <tr>\n",
              "      <th>2</th>\n",
              "      <td>1</td>\n",
              "      <td>3</td>\n",
              "      <td>female</td>\n",
              "      <td>26.0</td>\n",
              "      <td>0</td>\n",
              "      <td>0</td>\n",
              "      <td>7.9250</td>\n",
              "      <td>S</td>\n",
              "      <td>Third</td>\n",
              "      <td>woman</td>\n",
              "      <td>False</td>\n",
              "      <td>NaN</td>\n",
              "      <td>Southampton</td>\n",
              "      <td>yes</td>\n",
              "      <td>True</td>\n",
              "    </tr>\n",
              "    <tr>\n",
              "      <th>3</th>\n",
              "      <td>1</td>\n",
              "      <td>1</td>\n",
              "      <td>female</td>\n",
              "      <td>35.0</td>\n",
              "      <td>1</td>\n",
              "      <td>0</td>\n",
              "      <td>53.1000</td>\n",
              "      <td>S</td>\n",
              "      <td>First</td>\n",
              "      <td>woman</td>\n",
              "      <td>False</td>\n",
              "      <td>C</td>\n",
              "      <td>Southampton</td>\n",
              "      <td>yes</td>\n",
              "      <td>False</td>\n",
              "    </tr>\n",
              "    <tr>\n",
              "      <th>4</th>\n",
              "      <td>0</td>\n",
              "      <td>3</td>\n",
              "      <td>male</td>\n",
              "      <td>35.0</td>\n",
              "      <td>0</td>\n",
              "      <td>0</td>\n",
              "      <td>8.0500</td>\n",
              "      <td>S</td>\n",
              "      <td>Third</td>\n",
              "      <td>man</td>\n",
              "      <td>True</td>\n",
              "      <td>NaN</td>\n",
              "      <td>Southampton</td>\n",
              "      <td>no</td>\n",
              "      <td>True</td>\n",
              "    </tr>\n",
              "  </tbody>\n",
              "</table>\n",
              "</div>"
            ],
            "text/plain": [
              "   survived  pclass     sex   age  ...  deck  embark_town  alive  alone\n",
              "0         0       3    male  22.0  ...   NaN  Southampton     no  False\n",
              "1         1       1  female  38.0  ...     C    Cherbourg    yes  False\n",
              "2         1       3  female  26.0  ...   NaN  Southampton    yes   True\n",
              "3         1       1  female  35.0  ...     C  Southampton    yes  False\n",
              "4         0       3    male  35.0  ...   NaN  Southampton     no   True\n",
              "\n",
              "[5 rows x 15 columns]"
            ]
          },
          "metadata": {
            "tags": []
          },
          "execution_count": 6
        }
      ]
    },
    {
      "cell_type": "markdown",
      "metadata": {
        "bootstrap": {
          "panel": {
            "class": "panel-default"
          }
        },
        "school_cell_uuid": "52ea3c810b334e7b96bd3671d227f7d1",
        "id": "aL0_0gdcBs_y"
      },
      "source": [
        "````{admonition} 연습 문제 4.4.1\n",
        "\n",
        "타이타닉호 승객 데이터의 데이터 개수를 각 열마다 구해본다.\n",
        "````"
      ]
    },
    {
      "cell_type": "code",
      "metadata": {
        "colab": {
          "base_uri": "https://localhost:8080/"
        },
        "id": "WDJzQ2l9yAMD",
        "outputId": "2be5cfee-1697-4e86-e65e-77c28dc035b0"
      },
      "source": [
        "titanic.count()"
      ],
      "execution_count": 42,
      "outputs": [
        {
          "output_type": "execute_result",
          "data": {
            "text/plain": [
              "survived       891\n",
              "pclass         891\n",
              "sex            891\n",
              "age            714\n",
              "sibsp          891\n",
              "parch          891\n",
              "fare           891\n",
              "embarked       889\n",
              "class          891\n",
              "who            891\n",
              "adult_male     891\n",
              "deck           203\n",
              "embark_town    889\n",
              "alive          891\n",
              "alone          891\n",
              "adult/child    891\n",
              "dtype: int64"
            ]
          },
          "metadata": {
            "tags": []
          },
          "execution_count": 42
        }
      ]
    },
    {
      "cell_type": "markdown",
      "metadata": {
        "school_cell_uuid": "6bb4a473517e48a0a4c571c1150b08a5",
        "id": "ejx0kD55Bs_z"
      },
      "source": [
        "## 카테고리 값 세기"
      ]
    },
    {
      "cell_type": "markdown",
      "metadata": {
        "id": "Mm31RY8iBs_z"
      },
      "source": [
        "```{margin}\n",
        "`value_counts`\n",
        "```"
      ]
    },
    {
      "cell_type": "markdown",
      "metadata": {
        "school_cell_uuid": "5aa39de8b9a846e1833d970b92b6fcfc",
        "id": "T4fTFOF0Bs_6"
      },
      "source": [
        "시리즈의 값이 정수, 문자열, 카테고리 값인 경우에는 `value_counts` 메서드로 각각의 값이 나온 횟수를 셀 수 있다."
      ]
    },
    {
      "cell_type": "code",
      "metadata": {
        "school_cell_uuid": "992cb9b1a3634783a9f3a5e96a6834db",
        "id": "4F29Uz7fBs_7",
        "colab": {
          "base_uri": "https://localhost:8080/"
        },
        "outputId": "30bbaea5-f9b7-4554-dd12-f93d17e6b6d2"
      },
      "source": [
        "np.random.seed(1)\n",
        "s2 = pd.Series(np.random.randint(6, size=100))\n",
        "s2.tail()"
      ],
      "execution_count": 7,
      "outputs": [
        {
          "output_type": "execute_result",
          "data": {
            "text/plain": [
              "95    4\n",
              "96    5\n",
              "97    2\n",
              "98    4\n",
              "99    3\n",
              "dtype: int64"
            ]
          },
          "metadata": {
            "tags": []
          },
          "execution_count": 7
        }
      ]
    },
    {
      "cell_type": "code",
      "metadata": {
        "id": "XjvSIe9aBs_8",
        "colab": {
          "base_uri": "https://localhost:8080/"
        },
        "outputId": "7227e05b-b4fd-4331-d10f-7b33911fb4eb"
      },
      "source": [
        "s2.value_counts()"
      ],
      "execution_count": 8,
      "outputs": [
        {
          "output_type": "execute_result",
          "data": {
            "text/plain": [
              "1    22\n",
              "0    18\n",
              "4    17\n",
              "5    16\n",
              "3    14\n",
              "2    13\n",
              "dtype: int64"
            ]
          },
          "metadata": {
            "tags": []
          },
          "execution_count": 8
        }
      ]
    },
    {
      "cell_type": "markdown",
      "metadata": {
        "school_cell_uuid": "e023197594ea4fbdbef80d7a898206f3",
        "id": "s2IrrDCDBs__"
      },
      "source": [
        "데이터프레임에는 `value_counts` 메서드가 없으므로 각 열마다 별도로 적용해야 한다."
      ]
    },
    {
      "cell_type": "code",
      "metadata": {
        "school_cell_uuid": "a8b131c3cb914b9ba0178e4e2c09bc11",
        "id": "kkYiw-4QBtAA",
        "colab": {
          "base_uri": "https://localhost:8080/"
        },
        "outputId": "e032fb8b-7fee-4614-bb0d-6abcdac40eb3"
      },
      "source": [
        "df[0].value_counts()"
      ],
      "execution_count": 9,
      "outputs": [
        {
          "output_type": "execute_result",
          "data": {
            "text/plain": [
              "3.0    2\n",
              "4.0    1\n",
              "0.0    1\n",
              "Name: 0, dtype: int64"
            ]
          },
          "metadata": {
            "tags": []
          },
          "execution_count": 9
        }
      ]
    },
    {
      "cell_type": "markdown",
      "metadata": {
        "school_cell_uuid": "62e666d9e8104d16bdcbd30d1f6df65f",
        "id": "Wanx_pkOBtAB"
      },
      "source": [
        "## 정렬"
      ]
    },
    {
      "cell_type": "markdown",
      "metadata": {
        "id": "PSZvapw3BtAB"
      },
      "source": [
        "```{margin}\n",
        "`sort_index`\n",
        "```"
      ]
    },
    {
      "cell_type": "markdown",
      "metadata": {
        "id": "CLGh3U4TBtAU"
      },
      "source": [
        "```{margin}\n",
        "`sort_values`\n",
        "```"
      ]
    },
    {
      "cell_type": "markdown",
      "metadata": {
        "school_cell_uuid": "894cc2cf62ab4a06b64f2786b131b5e2",
        "id": "xXb80xfJBtAV"
      },
      "source": [
        "데이터를 정렬하려면 `sort_index` 메서드 `sort_values` 메서드를 사용한다. `sort_index` 메서드는 인덱스 값을 기준으로, `sort_values` 메서드는 데이터 값을 기준으로 정렬한다.\n",
        "\n",
        "앞에서 `s2` 시리즈의 각 데이터 값에 따른 데이터 갯수를 인덱스에 따라 정렬하려면 다음처럼 `sort_index`를 적용한다."
      ]
    },
    {
      "cell_type": "code",
      "metadata": {
        "school_cell_uuid": "edb6d322399e48cdad010d3aec63ca6c",
        "id": "T6kVsT3HBtAW",
        "colab": {
          "base_uri": "https://localhost:8080/"
        },
        "outputId": "322ec864-fd2e-44aa-a511-0a88d86ea1bd"
      },
      "source": [
        "s2.value_counts().sort_index()"
      ],
      "execution_count": 10,
      "outputs": [
        {
          "output_type": "execute_result",
          "data": {
            "text/plain": [
              "0    18\n",
              "1    22\n",
              "2    13\n",
              "3    14\n",
              "4    17\n",
              "5    16\n",
              "dtype: int64"
            ]
          },
          "metadata": {
            "tags": []
          },
          "execution_count": 10
        }
      ]
    },
    {
      "cell_type": "markdown",
      "metadata": {
        "school_cell_uuid": "27db8202e06e4e87825585643e000158",
        "id": "V0iwTtuLBtAW"
      },
      "source": [
        "NaN값이 있는 경우에는 정렬하면 NaN값이 가장 나중으로 간다."
      ]
    },
    {
      "cell_type": "code",
      "metadata": {
        "school_cell_uuid": "fb8f40c9e82e48a1a396eb38831811f7",
        "id": "spgw-NU9BtAX",
        "colab": {
          "base_uri": "https://localhost:8080/"
        },
        "outputId": "adc20a17-b233-4706-a9b9-d2da842d84a7"
      },
      "source": [
        "s.sort_values()"
      ],
      "execution_count": 11,
      "outputs": [
        {
          "output_type": "execute_result",
          "data": {
            "text/plain": [
              "0    0.0\n",
              "1    1.0\n",
              "2    2.0\n",
              "4    4.0\n",
              "5    5.0\n",
              "6    6.0\n",
              "7    7.0\n",
              "8    8.0\n",
              "9    9.0\n",
              "3    NaN\n",
              "dtype: float64"
            ]
          },
          "metadata": {
            "tags": []
          },
          "execution_count": 11
        }
      ]
    },
    {
      "cell_type": "markdown",
      "metadata": {
        "school_cell_uuid": "7c6a42bbed964948966250321edcc690",
        "id": "FDATPvQoBtAa"
      },
      "source": [
        "큰 수에서 작은 수로 반대 방향 정렬하려면 `ascending=False` 인수를 지정한다."
      ]
    },
    {
      "cell_type": "code",
      "metadata": {
        "school_cell_uuid": "1b5d13aaa77a4b918198bb73275a761d",
        "id": "sbQLXoUmBtAb",
        "colab": {
          "base_uri": "https://localhost:8080/"
        },
        "outputId": "29a743af-890c-44f0-d902-804cdae426e0"
      },
      "source": [
        "s.sort_values(ascending=False)"
      ],
      "execution_count": 12,
      "outputs": [
        {
          "output_type": "execute_result",
          "data": {
            "text/plain": [
              "9    9.0\n",
              "8    8.0\n",
              "7    7.0\n",
              "6    6.0\n",
              "5    5.0\n",
              "4    4.0\n",
              "2    2.0\n",
              "1    1.0\n",
              "0    0.0\n",
              "3    NaN\n",
              "dtype: float64"
            ]
          },
          "metadata": {
            "tags": []
          },
          "execution_count": 12
        }
      ]
    },
    {
      "cell_type": "markdown",
      "metadata": {
        "school_cell_uuid": "8755625d893b4e3a84eca152c06068e0",
        "id": "AZvJcFXeBtAc"
      },
      "source": [
        "데이터프레임에서 `sort_values` 메서드를 사용하려면 `by` 인수로 정렬 기준이 되는 열을 지정해 주어야 한다."
      ]
    },
    {
      "cell_type": "code",
      "metadata": {
        "school_cell_uuid": "8cb3762a4ac348d198d2a82d39d99a15",
        "id": "plmgfyr9BtAc",
        "colab": {
          "base_uri": "https://localhost:8080/",
          "height": 173
        },
        "outputId": "7fb9c167-92ac-4fc2-b913-4fae9a9d4775"
      },
      "source": [
        "df.sort_values(by=1)"
      ],
      "execution_count": 13,
      "outputs": [
        {
          "output_type": "execute_result",
          "data": {
            "text/html": [
              "<div>\n",
              "<style scoped>\n",
              "    .dataframe tbody tr th:only-of-type {\n",
              "        vertical-align: middle;\n",
              "    }\n",
              "\n",
              "    .dataframe tbody tr th {\n",
              "        vertical-align: top;\n",
              "    }\n",
              "\n",
              "    .dataframe thead th {\n",
              "        text-align: right;\n",
              "    }\n",
              "</style>\n",
              "<table border=\"1\" class=\"dataframe\">\n",
              "  <thead>\n",
              "    <tr style=\"text-align: right;\">\n",
              "      <th></th>\n",
              "      <th>0</th>\n",
              "      <th>1</th>\n",
              "      <th>2</th>\n",
              "      <th>3</th>\n",
              "    </tr>\n",
              "  </thead>\n",
              "  <tbody>\n",
              "    <tr>\n",
              "      <th>0</th>\n",
              "      <td>0.0</td>\n",
              "      <td>0.0</td>\n",
              "      <td>3.0</td>\n",
              "      <td>2.0</td>\n",
              "    </tr>\n",
              "    <tr>\n",
              "      <th>1</th>\n",
              "      <td>3.0</td>\n",
              "      <td>0.0</td>\n",
              "      <td>2.0</td>\n",
              "      <td>1.0</td>\n",
              "    </tr>\n",
              "    <tr>\n",
              "      <th>2</th>\n",
              "      <td>3.0</td>\n",
              "      <td>2.0</td>\n",
              "      <td>4.0</td>\n",
              "      <td>NaN</td>\n",
              "    </tr>\n",
              "    <tr>\n",
              "      <th>3</th>\n",
              "      <td>4.0</td>\n",
              "      <td>3.0</td>\n",
              "      <td>4.0</td>\n",
              "      <td>2.0</td>\n",
              "    </tr>\n",
              "  </tbody>\n",
              "</table>\n",
              "</div>"
            ],
            "text/plain": [
              "     0    1    2    3\n",
              "0  0.0  0.0  3.0  2.0\n",
              "1  3.0  0.0  2.0  1.0\n",
              "2  3.0  2.0  4.0  NaN\n",
              "3  4.0  3.0  4.0  2.0"
            ]
          },
          "metadata": {
            "tags": []
          },
          "execution_count": 13
        }
      ]
    },
    {
      "cell_type": "markdown",
      "metadata": {
        "school_cell_uuid": "40ef414a10914866b2cc93ead109d1c4",
        "id": "l-spWuJcBtAd"
      },
      "source": [
        "`by` 인수에 리스트 값을 넣으면 이 순서대로 정렬 기준의 우선 순위가 된다. 즉, 리스트의 첫번째 열을 기준으로 정렬한 후 동일한 값이 나오면 그 다음 열로 순서를 따지게 된다."
      ]
    },
    {
      "cell_type": "code",
      "metadata": {
        "school_cell_uuid": "579b0ea2b01043969dd660c78f3cbac2",
        "id": "rZhdC3oJBtAh",
        "colab": {
          "base_uri": "https://localhost:8080/",
          "height": 173
        },
        "outputId": "fc63cccf-3074-4e76-f706-7d623d9cdfa9"
      },
      "source": [
        "df.sort_values(by=[1, 2])"
      ],
      "execution_count": 14,
      "outputs": [
        {
          "output_type": "execute_result",
          "data": {
            "text/html": [
              "<div>\n",
              "<style scoped>\n",
              "    .dataframe tbody tr th:only-of-type {\n",
              "        vertical-align: middle;\n",
              "    }\n",
              "\n",
              "    .dataframe tbody tr th {\n",
              "        vertical-align: top;\n",
              "    }\n",
              "\n",
              "    .dataframe thead th {\n",
              "        text-align: right;\n",
              "    }\n",
              "</style>\n",
              "<table border=\"1\" class=\"dataframe\">\n",
              "  <thead>\n",
              "    <tr style=\"text-align: right;\">\n",
              "      <th></th>\n",
              "      <th>0</th>\n",
              "      <th>1</th>\n",
              "      <th>2</th>\n",
              "      <th>3</th>\n",
              "    </tr>\n",
              "  </thead>\n",
              "  <tbody>\n",
              "    <tr>\n",
              "      <th>1</th>\n",
              "      <td>3.0</td>\n",
              "      <td>0.0</td>\n",
              "      <td>2.0</td>\n",
              "      <td>1.0</td>\n",
              "    </tr>\n",
              "    <tr>\n",
              "      <th>0</th>\n",
              "      <td>0.0</td>\n",
              "      <td>0.0</td>\n",
              "      <td>3.0</td>\n",
              "      <td>2.0</td>\n",
              "    </tr>\n",
              "    <tr>\n",
              "      <th>2</th>\n",
              "      <td>3.0</td>\n",
              "      <td>2.0</td>\n",
              "      <td>4.0</td>\n",
              "      <td>NaN</td>\n",
              "    </tr>\n",
              "    <tr>\n",
              "      <th>3</th>\n",
              "      <td>4.0</td>\n",
              "      <td>3.0</td>\n",
              "      <td>4.0</td>\n",
              "      <td>2.0</td>\n",
              "    </tr>\n",
              "  </tbody>\n",
              "</table>\n",
              "</div>"
            ],
            "text/plain": [
              "     0    1    2    3\n",
              "1  3.0  0.0  2.0  1.0\n",
              "0  0.0  0.0  3.0  2.0\n",
              "2  3.0  2.0  4.0  NaN\n",
              "3  4.0  3.0  4.0  2.0"
            ]
          },
          "metadata": {
            "tags": []
          },
          "execution_count": 14
        }
      ]
    },
    {
      "cell_type": "markdown",
      "metadata": {
        "bootstrap": {
          "panel": {
            "class": "panel-default"
          }
        },
        "school_cell_uuid": "03c5751991a94aae92991778996db5ed",
        "id": "8aaZcYLeBtAi"
      },
      "source": [
        "**<스스로> 연습문제**\n",
        "````{admonition} 연습 문제 4.4.2\n",
        "\n",
        "`sort_values` 메서드를 사용하여 타이타닉호 승객에 대해 성별(sex) 인원수, 나이별(age) 인원수, 선실별(class) 인원수, 사망/생존(alive) 인원수를 구하라.\n",
        "````"
      ]
    },
    {
      "cell_type": "code",
      "metadata": {
        "colab": {
          "base_uri": "https://localhost:8080/"
        },
        "id": "w_tdTqR5zN1m",
        "outputId": "8c031f5e-f4fc-4c90-c973-2249fc4fe1b9"
      },
      "source": [
        "print(titanic.sort_values(by=['sex'])['sex'].value_counts())\r\n",
        "print(titanic.sort_values(by=['age'])['age'].value_counts())\r\n",
        "print(titanic.sort_values(by=['class'])['class'].value_counts())\r\n",
        "print(titanic.sort_values(by=['alive'])['alive'].value_counts())\r\n"
      ],
      "execution_count": 69,
      "outputs": [
        {
          "output_type": "stream",
          "text": [
            "male      577\n",
            "female    314\n",
            "Name: sex, dtype: int64\n",
            "24.00    30\n",
            "22.00    27\n",
            "18.00    26\n",
            "28.00    25\n",
            "30.00    25\n",
            "         ..\n",
            "70.50     1\n",
            "20.50     1\n",
            "34.50     1\n",
            "23.50     1\n",
            "0.42      1\n",
            "Name: age, Length: 88, dtype: int64\n",
            "Third     491\n",
            "First     216\n",
            "Second    184\n",
            "Name: class, dtype: int64\n",
            "no     549\n",
            "yes    342\n",
            "Name: alive, dtype: int64\n"
          ],
          "name": "stdout"
        }
      ]
    },
    {
      "cell_type": "markdown",
      "metadata": {
        "school_cell_uuid": "7a266cc6d4c04ef2ad47f789d0175bea",
        "id": "7kCdeqbOBtAk"
      },
      "source": [
        "## 행/열 합계"
      ]
    },
    {
      "cell_type": "markdown",
      "metadata": {
        "id": "fmX_GIzaBtAl"
      },
      "source": [
        "```{margin}\n",
        "`sum`\n",
        "```"
      ]
    },
    {
      "cell_type": "markdown",
      "metadata": {
        "school_cell_uuid": "a9b1d2ca7d6e458eb1ae30445393345a",
        "id": "7rVjsDORBtAl"
      },
      "source": [
        "행과 열의 합계를 구할 때는 `sum(axis)` 메서드를 사용한다. `axis` 인수에는 합계로 인해 없어지는 방향축(0=행, 1=열)을 지정한다."
      ]
    },
    {
      "cell_type": "code",
      "metadata": {
        "school_cell_uuid": "586a6c235051415c8810413b6bbfd159",
        "id": "26mZOD9-BtAo",
        "colab": {
          "base_uri": "https://localhost:8080/",
          "height": 173
        },
        "outputId": "383081b4-fb8f-45af-982f-500ae90eb17d"
      },
      "source": [
        "np.random.seed(1)\n",
        "df2 = pd.DataFrame(np.random.randint(10, size=(4, 8)))\n",
        "df2"
      ],
      "execution_count": 15,
      "outputs": [
        {
          "output_type": "execute_result",
          "data": {
            "text/html": [
              "<div>\n",
              "<style scoped>\n",
              "    .dataframe tbody tr th:only-of-type {\n",
              "        vertical-align: middle;\n",
              "    }\n",
              "\n",
              "    .dataframe tbody tr th {\n",
              "        vertical-align: top;\n",
              "    }\n",
              "\n",
              "    .dataframe thead th {\n",
              "        text-align: right;\n",
              "    }\n",
              "</style>\n",
              "<table border=\"1\" class=\"dataframe\">\n",
              "  <thead>\n",
              "    <tr style=\"text-align: right;\">\n",
              "      <th></th>\n",
              "      <th>0</th>\n",
              "      <th>1</th>\n",
              "      <th>2</th>\n",
              "      <th>3</th>\n",
              "      <th>4</th>\n",
              "      <th>5</th>\n",
              "      <th>6</th>\n",
              "      <th>7</th>\n",
              "    </tr>\n",
              "  </thead>\n",
              "  <tbody>\n",
              "    <tr>\n",
              "      <th>0</th>\n",
              "      <td>5</td>\n",
              "      <td>8</td>\n",
              "      <td>9</td>\n",
              "      <td>5</td>\n",
              "      <td>0</td>\n",
              "      <td>0</td>\n",
              "      <td>1</td>\n",
              "      <td>7</td>\n",
              "    </tr>\n",
              "    <tr>\n",
              "      <th>1</th>\n",
              "      <td>6</td>\n",
              "      <td>9</td>\n",
              "      <td>2</td>\n",
              "      <td>4</td>\n",
              "      <td>5</td>\n",
              "      <td>2</td>\n",
              "      <td>4</td>\n",
              "      <td>2</td>\n",
              "    </tr>\n",
              "    <tr>\n",
              "      <th>2</th>\n",
              "      <td>4</td>\n",
              "      <td>7</td>\n",
              "      <td>7</td>\n",
              "      <td>9</td>\n",
              "      <td>1</td>\n",
              "      <td>7</td>\n",
              "      <td>0</td>\n",
              "      <td>6</td>\n",
              "    </tr>\n",
              "    <tr>\n",
              "      <th>3</th>\n",
              "      <td>9</td>\n",
              "      <td>9</td>\n",
              "      <td>7</td>\n",
              "      <td>6</td>\n",
              "      <td>9</td>\n",
              "      <td>1</td>\n",
              "      <td>0</td>\n",
              "      <td>1</td>\n",
              "    </tr>\n",
              "  </tbody>\n",
              "</table>\n",
              "</div>"
            ],
            "text/plain": [
              "   0  1  2  3  4  5  6  7\n",
              "0  5  8  9  5  0  0  1  7\n",
              "1  6  9  2  4  5  2  4  2\n",
              "2  4  7  7  9  1  7  0  6\n",
              "3  9  9  7  6  9  1  0  1"
            ]
          },
          "metadata": {
            "tags": []
          },
          "execution_count": 15
        }
      ]
    },
    {
      "cell_type": "markdown",
      "metadata": {
        "school_cell_uuid": "6373e125af3746d1baa8d91402cebfa5",
        "id": "WGSG5l3cBtAs"
      },
      "source": [
        "행방향 합계를 구할 때는 `sum(axis=1)` 메서드를 사용한다."
      ]
    },
    {
      "cell_type": "code",
      "metadata": {
        "school_cell_uuid": "9844dea5844a446fa17bdac5b55696dd",
        "id": "45JHVIvCBtAt",
        "colab": {
          "base_uri": "https://localhost:8080/"
        },
        "outputId": "e4ae75f0-cc4b-478a-dc4b-b0f4cc13c1e6"
      },
      "source": [
        "df2.sum(axis=1)"
      ],
      "execution_count": 16,
      "outputs": [
        {
          "output_type": "execute_result",
          "data": {
            "text/plain": [
              "0    35\n",
              "1    34\n",
              "2    41\n",
              "3    42\n",
              "dtype: int64"
            ]
          },
          "metadata": {
            "tags": []
          },
          "execution_count": 16
        }
      ]
    },
    {
      "cell_type": "code",
      "metadata": {
        "school_cell_uuid": "8c85292240444dc3b4958c088bbb04f2",
        "id": "rn2iI_xBBtA3",
        "colab": {
          "base_uri": "https://localhost:8080/",
          "height": 173
        },
        "outputId": "b846b175-27fd-4c1f-e1cb-b5632f0d092f"
      },
      "source": [
        "df2[\"RowSum\"] = df2.sum(axis=1)\n",
        "df2"
      ],
      "execution_count": 17,
      "outputs": [
        {
          "output_type": "execute_result",
          "data": {
            "text/html": [
              "<div>\n",
              "<style scoped>\n",
              "    .dataframe tbody tr th:only-of-type {\n",
              "        vertical-align: middle;\n",
              "    }\n",
              "\n",
              "    .dataframe tbody tr th {\n",
              "        vertical-align: top;\n",
              "    }\n",
              "\n",
              "    .dataframe thead th {\n",
              "        text-align: right;\n",
              "    }\n",
              "</style>\n",
              "<table border=\"1\" class=\"dataframe\">\n",
              "  <thead>\n",
              "    <tr style=\"text-align: right;\">\n",
              "      <th></th>\n",
              "      <th>0</th>\n",
              "      <th>1</th>\n",
              "      <th>2</th>\n",
              "      <th>3</th>\n",
              "      <th>4</th>\n",
              "      <th>5</th>\n",
              "      <th>6</th>\n",
              "      <th>7</th>\n",
              "      <th>RowSum</th>\n",
              "    </tr>\n",
              "  </thead>\n",
              "  <tbody>\n",
              "    <tr>\n",
              "      <th>0</th>\n",
              "      <td>5</td>\n",
              "      <td>8</td>\n",
              "      <td>9</td>\n",
              "      <td>5</td>\n",
              "      <td>0</td>\n",
              "      <td>0</td>\n",
              "      <td>1</td>\n",
              "      <td>7</td>\n",
              "      <td>35</td>\n",
              "    </tr>\n",
              "    <tr>\n",
              "      <th>1</th>\n",
              "      <td>6</td>\n",
              "      <td>9</td>\n",
              "      <td>2</td>\n",
              "      <td>4</td>\n",
              "      <td>5</td>\n",
              "      <td>2</td>\n",
              "      <td>4</td>\n",
              "      <td>2</td>\n",
              "      <td>34</td>\n",
              "    </tr>\n",
              "    <tr>\n",
              "      <th>2</th>\n",
              "      <td>4</td>\n",
              "      <td>7</td>\n",
              "      <td>7</td>\n",
              "      <td>9</td>\n",
              "      <td>1</td>\n",
              "      <td>7</td>\n",
              "      <td>0</td>\n",
              "      <td>6</td>\n",
              "      <td>41</td>\n",
              "    </tr>\n",
              "    <tr>\n",
              "      <th>3</th>\n",
              "      <td>9</td>\n",
              "      <td>9</td>\n",
              "      <td>7</td>\n",
              "      <td>6</td>\n",
              "      <td>9</td>\n",
              "      <td>1</td>\n",
              "      <td>0</td>\n",
              "      <td>1</td>\n",
              "      <td>42</td>\n",
              "    </tr>\n",
              "  </tbody>\n",
              "</table>\n",
              "</div>"
            ],
            "text/plain": [
              "   0  1  2  3  4  5  6  7  RowSum\n",
              "0  5  8  9  5  0  0  1  7      35\n",
              "1  6  9  2  4  5  2  4  2      34\n",
              "2  4  7  7  9  1  7  0  6      41\n",
              "3  9  9  7  6  9  1  0  1      42"
            ]
          },
          "metadata": {
            "tags": []
          },
          "execution_count": 17
        }
      ]
    },
    {
      "cell_type": "markdown",
      "metadata": {
        "school_cell_uuid": "42215ee49dee4709a7b4a1b626ca56e1",
        "id": "_S4rA4QBBtA5"
      },
      "source": [
        "열 합계를 구할 때는 `sum(axis=0)` 메서드를 사용하는데 `axis`인수의 디폴트 값이 0이므로 `axis`인수를 생략할 수 있다."
      ]
    },
    {
      "cell_type": "code",
      "metadata": {
        "school_cell_uuid": "47a21f35652b4a6dba4f225bca292aaf",
        "id": "MW7JFbF8BtA6",
        "colab": {
          "base_uri": "https://localhost:8080/"
        },
        "outputId": "c78ee143-9e29-47a8-86d2-615ced0d68be"
      },
      "source": [
        "df2.sum()"
      ],
      "execution_count": 18,
      "outputs": [
        {
          "output_type": "execute_result",
          "data": {
            "text/plain": [
              "0          24\n",
              "1          33\n",
              "2          25\n",
              "3          24\n",
              "4          15\n",
              "5          10\n",
              "6           5\n",
              "7          16\n",
              "RowSum    152\n",
              "dtype: int64"
            ]
          },
          "metadata": {
            "tags": []
          },
          "execution_count": 18
        }
      ]
    },
    {
      "cell_type": "code",
      "metadata": {
        "school_cell_uuid": "366ff3b3379142f09f85ea7055151f5b",
        "id": "AXytG1psBtBP",
        "colab": {
          "base_uri": "https://localhost:8080/",
          "height": 204
        },
        "outputId": "c003dd1c-d96e-45e7-cbc8-7861aa3b6a36"
      },
      "source": [
        "df2.loc[\"ColTotal\", :] = df2.sum()\n",
        "df2"
      ],
      "execution_count": 19,
      "outputs": [
        {
          "output_type": "execute_result",
          "data": {
            "text/html": [
              "<div>\n",
              "<style scoped>\n",
              "    .dataframe tbody tr th:only-of-type {\n",
              "        vertical-align: middle;\n",
              "    }\n",
              "\n",
              "    .dataframe tbody tr th {\n",
              "        vertical-align: top;\n",
              "    }\n",
              "\n",
              "    .dataframe thead th {\n",
              "        text-align: right;\n",
              "    }\n",
              "</style>\n",
              "<table border=\"1\" class=\"dataframe\">\n",
              "  <thead>\n",
              "    <tr style=\"text-align: right;\">\n",
              "      <th></th>\n",
              "      <th>0</th>\n",
              "      <th>1</th>\n",
              "      <th>2</th>\n",
              "      <th>3</th>\n",
              "      <th>4</th>\n",
              "      <th>5</th>\n",
              "      <th>6</th>\n",
              "      <th>7</th>\n",
              "      <th>RowSum</th>\n",
              "    </tr>\n",
              "  </thead>\n",
              "  <tbody>\n",
              "    <tr>\n",
              "      <th>0</th>\n",
              "      <td>5.0</td>\n",
              "      <td>8.0</td>\n",
              "      <td>9.0</td>\n",
              "      <td>5.0</td>\n",
              "      <td>0.0</td>\n",
              "      <td>0.0</td>\n",
              "      <td>1.0</td>\n",
              "      <td>7.0</td>\n",
              "      <td>35.0</td>\n",
              "    </tr>\n",
              "    <tr>\n",
              "      <th>1</th>\n",
              "      <td>6.0</td>\n",
              "      <td>9.0</td>\n",
              "      <td>2.0</td>\n",
              "      <td>4.0</td>\n",
              "      <td>5.0</td>\n",
              "      <td>2.0</td>\n",
              "      <td>4.0</td>\n",
              "      <td>2.0</td>\n",
              "      <td>34.0</td>\n",
              "    </tr>\n",
              "    <tr>\n",
              "      <th>2</th>\n",
              "      <td>4.0</td>\n",
              "      <td>7.0</td>\n",
              "      <td>7.0</td>\n",
              "      <td>9.0</td>\n",
              "      <td>1.0</td>\n",
              "      <td>7.0</td>\n",
              "      <td>0.0</td>\n",
              "      <td>6.0</td>\n",
              "      <td>41.0</td>\n",
              "    </tr>\n",
              "    <tr>\n",
              "      <th>3</th>\n",
              "      <td>9.0</td>\n",
              "      <td>9.0</td>\n",
              "      <td>7.0</td>\n",
              "      <td>6.0</td>\n",
              "      <td>9.0</td>\n",
              "      <td>1.0</td>\n",
              "      <td>0.0</td>\n",
              "      <td>1.0</td>\n",
              "      <td>42.0</td>\n",
              "    </tr>\n",
              "    <tr>\n",
              "      <th>ColTotal</th>\n",
              "      <td>24.0</td>\n",
              "      <td>33.0</td>\n",
              "      <td>25.0</td>\n",
              "      <td>24.0</td>\n",
              "      <td>15.0</td>\n",
              "      <td>10.0</td>\n",
              "      <td>5.0</td>\n",
              "      <td>16.0</td>\n",
              "      <td>152.0</td>\n",
              "    </tr>\n",
              "  </tbody>\n",
              "</table>\n",
              "</div>"
            ],
            "text/plain": [
              "             0     1     2     3     4     5    6     7  RowSum\n",
              "0          5.0   8.0   9.0   5.0   0.0   0.0  1.0   7.0    35.0\n",
              "1          6.0   9.0   2.0   4.0   5.0   2.0  4.0   2.0    34.0\n",
              "2          4.0   7.0   7.0   9.0   1.0   7.0  0.0   6.0    41.0\n",
              "3          9.0   9.0   7.0   6.0   9.0   1.0  0.0   1.0    42.0\n",
              "ColTotal  24.0  33.0  25.0  24.0  15.0  10.0  5.0  16.0   152.0"
            ]
          },
          "metadata": {
            "tags": []
          },
          "execution_count": 19
        }
      ]
    },
    {
      "cell_type": "markdown",
      "metadata": {
        "id": "8FuQhajkBtBQ"
      },
      "source": [
        "```{margin}\n",
        "`mean`\n",
        "```"
      ]
    },
    {
      "cell_type": "markdown",
      "metadata": {
        "id": "uNxOBanmBtBQ"
      },
      "source": [
        "`mean` 메서드는 평균을 구하며 `sum` 메서드와 사용법이 같다."
      ]
    },
    {
      "cell_type": "markdown",
      "metadata": {
        "id": "nkmOyFD3BtBW"
      },
      "source": [
        "**<스스로> 연습 문제**\n",
        "````{admonition} 연습 문제 4.4.3\n",
        "\n",
        "1. 타이타닉호 승객의 평균 나이를 구하라.\n",
        "1. 타이타닉호 승객중 여성 승객의 평균 나이를 구하라.\n",
        "1. 타이타닉호 승객중 1등실 선실의 여성 승객의 평균 나이를 구하라.\n",
        "````"
      ]
    },
    {
      "cell_type": "code",
      "metadata": {
        "colab": {
          "base_uri": "https://localhost:8080/"
        },
        "id": "zMxoeHT7-A3J",
        "outputId": "b3488339-6ddf-4de0-c91e-9d62ae36ac0e"
      },
      "source": [
        "print(titanic['age'].mean())\r\n",
        "print(titanic[titanic['sex']=='female']['age'].mean())\r\n",
        "print(titanic[(titanic['sex']=='female') & (titanic['pclass']==1)]['age'].mean())"
      ],
      "execution_count": 80,
      "outputs": [
        {
          "output_type": "stream",
          "text": [
            "29.69911764705882\n",
            "27.915708812260537\n",
            "34.61176470588235\n"
          ],
          "name": "stdout"
        }
      ]
    },
    {
      "cell_type": "markdown",
      "metadata": {
        "school_cell_uuid": "486c0b5123f74b02b7ca909ddc6c5653",
        "id": "joJ1QKkhBtBX"
      },
      "source": [
        "## `apply` 변환\n",
        "\n",
        "행이나 열 단위로 더 복잡한 처리를 하고 싶을 때는 `apply` 메서드를 사용한다. 인수로 행 또는 열을 받는 함수를 `apply` 메서드의 인수로 넣으면 각 열(또는 행)을 반복하여 그 함수에 적용시킨다. "
      ]
    },
    {
      "cell_type": "markdown",
      "metadata": {
        "id": "bEA4p7q_VmX1"
      },
      "source": [
        "![이미지](http://cdn-ak.f.st-hatena.com/images/fotolife/s/sinhrks/20150618/20150618213500.png)"
      ]
    },
    {
      "cell_type": "code",
      "metadata": {
        "school_cell_uuid": "4702f3d64a7d4f259fc6def7714f0dc9",
        "id": "GUihy_TsBtBX",
        "colab": {
          "base_uri": "https://localhost:8080/",
          "height": 204
        },
        "outputId": "d9fdc1a5-21e5-4743-834e-11cabe34f223"
      },
      "source": [
        "df3 = pd.DataFrame({\n",
        "    'A': [1, 3, 4, 3, 4],\n",
        "    'B': [2, 3, 1, 2, 3],\n",
        "    'C': [1, 5, 2, 4, 4]\n",
        "})\n",
        "df3"
      ],
      "execution_count": 20,
      "outputs": [
        {
          "output_type": "execute_result",
          "data": {
            "text/html": [
              "<div>\n",
              "<style scoped>\n",
              "    .dataframe tbody tr th:only-of-type {\n",
              "        vertical-align: middle;\n",
              "    }\n",
              "\n",
              "    .dataframe tbody tr th {\n",
              "        vertical-align: top;\n",
              "    }\n",
              "\n",
              "    .dataframe thead th {\n",
              "        text-align: right;\n",
              "    }\n",
              "</style>\n",
              "<table border=\"1\" class=\"dataframe\">\n",
              "  <thead>\n",
              "    <tr style=\"text-align: right;\">\n",
              "      <th></th>\n",
              "      <th>A</th>\n",
              "      <th>B</th>\n",
              "      <th>C</th>\n",
              "    </tr>\n",
              "  </thead>\n",
              "  <tbody>\n",
              "    <tr>\n",
              "      <th>0</th>\n",
              "      <td>1</td>\n",
              "      <td>2</td>\n",
              "      <td>1</td>\n",
              "    </tr>\n",
              "    <tr>\n",
              "      <th>1</th>\n",
              "      <td>3</td>\n",
              "      <td>3</td>\n",
              "      <td>5</td>\n",
              "    </tr>\n",
              "    <tr>\n",
              "      <th>2</th>\n",
              "      <td>4</td>\n",
              "      <td>1</td>\n",
              "      <td>2</td>\n",
              "    </tr>\n",
              "    <tr>\n",
              "      <th>3</th>\n",
              "      <td>3</td>\n",
              "      <td>2</td>\n",
              "      <td>4</td>\n",
              "    </tr>\n",
              "    <tr>\n",
              "      <th>4</th>\n",
              "      <td>4</td>\n",
              "      <td>3</td>\n",
              "      <td>4</td>\n",
              "    </tr>\n",
              "  </tbody>\n",
              "</table>\n",
              "</div>"
            ],
            "text/plain": [
              "   A  B  C\n",
              "0  1  2  1\n",
              "1  3  3  5\n",
              "2  4  1  2\n",
              "3  3  2  4\n",
              "4  4  3  4"
            ]
          },
          "metadata": {
            "tags": []
          },
          "execution_count": 20
        }
      ]
    },
    {
      "cell_type": "markdown",
      "metadata": {
        "school_cell_uuid": "6576e09a390443b88003bfb3bd4341db",
        "id": "d-voWJhwBtCn"
      },
      "source": [
        "예를 들어 각 열의 최대값과 최소값의 차이를 구하고 싶으면 다음과 같은 람다 함수를 넣는다."
      ]
    },
    {
      "cell_type": "code",
      "metadata": {
        "school_cell_uuid": "03ece47f9c944d75890a488dacf7a342",
        "id": "e2DI2l22BtCo",
        "colab": {
          "base_uri": "https://localhost:8080/"
        },
        "outputId": "bc95df9e-a631-4508-9b6e-ee42a8c1cf20"
      },
      "source": [
        "df3.apply(lambda x: x.max() - x.min())"
      ],
      "execution_count": 21,
      "outputs": [
        {
          "output_type": "execute_result",
          "data": {
            "text/plain": [
              "A    3\n",
              "B    2\n",
              "C    4\n",
              "dtype: int64"
            ]
          },
          "metadata": {
            "tags": []
          },
          "execution_count": 21
        }
      ]
    },
    {
      "cell_type": "markdown",
      "metadata": {
        "school_cell_uuid": "48ce18777f7d4e63a4845eff6f5964fc",
        "id": "oUZWPRTDBtCq"
      },
      "source": [
        "만약 행에 대해 적용하고 싶으면 `axis=1` 인수를 쓴다."
      ]
    },
    {
      "cell_type": "code",
      "metadata": {
        "school_cell_uuid": "888a82bf2ae84aa58d7e0653ddd482a7",
        "id": "hzBYgP0ZBtCr",
        "colab": {
          "base_uri": "https://localhost:8080/"
        },
        "outputId": "b04a0977-6af9-43e2-c43f-a5e7373b9c5b"
      },
      "source": [
        "df3.apply(lambda x: x.max() - x.min(), axis=1)"
      ],
      "execution_count": 22,
      "outputs": [
        {
          "output_type": "execute_result",
          "data": {
            "text/plain": [
              "0    1\n",
              "1    2\n",
              "2    3\n",
              "3    2\n",
              "4    1\n",
              "dtype: int64"
            ]
          },
          "metadata": {
            "tags": []
          },
          "execution_count": 22
        }
      ]
    },
    {
      "cell_type": "markdown",
      "metadata": {
        "school_cell_uuid": "aef8dca1c38b458183e7fcd51dc3885c",
        "id": "k7YObRJDBtCu"
      },
      "source": [
        "각 열에 대해 어떤 값이 얼마나 사용되었는지 알고 싶다면 `value_counts` 함수를 넣으면 된다."
      ]
    },
    {
      "cell_type": "code",
      "metadata": {
        "school_cell_uuid": "f75cf5ec3249468ba1d59a6fa7c7dfaa",
        "id": "Z5ZD9EriBtCu",
        "colab": {
          "base_uri": "https://localhost:8080/",
          "height": 204
        },
        "outputId": "f6a09718-67d2-4e71-df04-f22c7540bf80"
      },
      "source": [
        "df3.apply(pd.value_counts)"
      ],
      "execution_count": 23,
      "outputs": [
        {
          "output_type": "execute_result",
          "data": {
            "text/html": [
              "<div>\n",
              "<style scoped>\n",
              "    .dataframe tbody tr th:only-of-type {\n",
              "        vertical-align: middle;\n",
              "    }\n",
              "\n",
              "    .dataframe tbody tr th {\n",
              "        vertical-align: top;\n",
              "    }\n",
              "\n",
              "    .dataframe thead th {\n",
              "        text-align: right;\n",
              "    }\n",
              "</style>\n",
              "<table border=\"1\" class=\"dataframe\">\n",
              "  <thead>\n",
              "    <tr style=\"text-align: right;\">\n",
              "      <th></th>\n",
              "      <th>A</th>\n",
              "      <th>B</th>\n",
              "      <th>C</th>\n",
              "    </tr>\n",
              "  </thead>\n",
              "  <tbody>\n",
              "    <tr>\n",
              "      <th>1</th>\n",
              "      <td>1.0</td>\n",
              "      <td>1.0</td>\n",
              "      <td>1.0</td>\n",
              "    </tr>\n",
              "    <tr>\n",
              "      <th>2</th>\n",
              "      <td>NaN</td>\n",
              "      <td>2.0</td>\n",
              "      <td>1.0</td>\n",
              "    </tr>\n",
              "    <tr>\n",
              "      <th>3</th>\n",
              "      <td>2.0</td>\n",
              "      <td>2.0</td>\n",
              "      <td>NaN</td>\n",
              "    </tr>\n",
              "    <tr>\n",
              "      <th>4</th>\n",
              "      <td>2.0</td>\n",
              "      <td>NaN</td>\n",
              "      <td>2.0</td>\n",
              "    </tr>\n",
              "    <tr>\n",
              "      <th>5</th>\n",
              "      <td>NaN</td>\n",
              "      <td>NaN</td>\n",
              "      <td>1.0</td>\n",
              "    </tr>\n",
              "  </tbody>\n",
              "</table>\n",
              "</div>"
            ],
            "text/plain": [
              "     A    B    C\n",
              "1  1.0  1.0  1.0\n",
              "2  NaN  2.0  1.0\n",
              "3  2.0  2.0  NaN\n",
              "4  2.0  NaN  2.0\n",
              "5  NaN  NaN  1.0"
            ]
          },
          "metadata": {
            "tags": []
          },
          "execution_count": 23
        }
      ]
    },
    {
      "cell_type": "markdown",
      "metadata": {
        "id": "qpTjcPucBtCy"
      },
      "source": [
        "다음과 같이 타이타닉호의 승객 중 나이 20살을 기준으로 성인(adult)과 미성년자(child)를 구별하는 라벨 열을 만들 수 있다."
      ]
    },
    {
      "cell_type": "code",
      "metadata": {
        "id": "9Z-T1eRRBtCy",
        "colab": {
          "base_uri": "https://localhost:8080/",
          "height": 204
        },
        "outputId": "5a8e24f0-5a0b-4500-95c6-e64615490428"
      },
      "source": [
        "titanic[\"adult/child\"] = titanic.apply(lambda r: \"adult\" if r.age >= 20 else \"child\", axis=1)\n",
        "titanic.tail()"
      ],
      "execution_count": 24,
      "outputs": [
        {
          "output_type": "execute_result",
          "data": {
            "text/html": [
              "<div>\n",
              "<style scoped>\n",
              "    .dataframe tbody tr th:only-of-type {\n",
              "        vertical-align: middle;\n",
              "    }\n",
              "\n",
              "    .dataframe tbody tr th {\n",
              "        vertical-align: top;\n",
              "    }\n",
              "\n",
              "    .dataframe thead th {\n",
              "        text-align: right;\n",
              "    }\n",
              "</style>\n",
              "<table border=\"1\" class=\"dataframe\">\n",
              "  <thead>\n",
              "    <tr style=\"text-align: right;\">\n",
              "      <th></th>\n",
              "      <th>survived</th>\n",
              "      <th>pclass</th>\n",
              "      <th>sex</th>\n",
              "      <th>age</th>\n",
              "      <th>sibsp</th>\n",
              "      <th>parch</th>\n",
              "      <th>fare</th>\n",
              "      <th>embarked</th>\n",
              "      <th>class</th>\n",
              "      <th>who</th>\n",
              "      <th>adult_male</th>\n",
              "      <th>deck</th>\n",
              "      <th>embark_town</th>\n",
              "      <th>alive</th>\n",
              "      <th>alone</th>\n",
              "      <th>adult/child</th>\n",
              "    </tr>\n",
              "  </thead>\n",
              "  <tbody>\n",
              "    <tr>\n",
              "      <th>886</th>\n",
              "      <td>0</td>\n",
              "      <td>2</td>\n",
              "      <td>male</td>\n",
              "      <td>27.0</td>\n",
              "      <td>0</td>\n",
              "      <td>0</td>\n",
              "      <td>13.00</td>\n",
              "      <td>S</td>\n",
              "      <td>Second</td>\n",
              "      <td>man</td>\n",
              "      <td>True</td>\n",
              "      <td>NaN</td>\n",
              "      <td>Southampton</td>\n",
              "      <td>no</td>\n",
              "      <td>True</td>\n",
              "      <td>adult</td>\n",
              "    </tr>\n",
              "    <tr>\n",
              "      <th>887</th>\n",
              "      <td>1</td>\n",
              "      <td>1</td>\n",
              "      <td>female</td>\n",
              "      <td>19.0</td>\n",
              "      <td>0</td>\n",
              "      <td>0</td>\n",
              "      <td>30.00</td>\n",
              "      <td>S</td>\n",
              "      <td>First</td>\n",
              "      <td>woman</td>\n",
              "      <td>False</td>\n",
              "      <td>B</td>\n",
              "      <td>Southampton</td>\n",
              "      <td>yes</td>\n",
              "      <td>True</td>\n",
              "      <td>child</td>\n",
              "    </tr>\n",
              "    <tr>\n",
              "      <th>888</th>\n",
              "      <td>0</td>\n",
              "      <td>3</td>\n",
              "      <td>female</td>\n",
              "      <td>NaN</td>\n",
              "      <td>1</td>\n",
              "      <td>2</td>\n",
              "      <td>23.45</td>\n",
              "      <td>S</td>\n",
              "      <td>Third</td>\n",
              "      <td>woman</td>\n",
              "      <td>False</td>\n",
              "      <td>NaN</td>\n",
              "      <td>Southampton</td>\n",
              "      <td>no</td>\n",
              "      <td>False</td>\n",
              "      <td>child</td>\n",
              "    </tr>\n",
              "    <tr>\n",
              "      <th>889</th>\n",
              "      <td>1</td>\n",
              "      <td>1</td>\n",
              "      <td>male</td>\n",
              "      <td>26.0</td>\n",
              "      <td>0</td>\n",
              "      <td>0</td>\n",
              "      <td>30.00</td>\n",
              "      <td>C</td>\n",
              "      <td>First</td>\n",
              "      <td>man</td>\n",
              "      <td>True</td>\n",
              "      <td>C</td>\n",
              "      <td>Cherbourg</td>\n",
              "      <td>yes</td>\n",
              "      <td>True</td>\n",
              "      <td>adult</td>\n",
              "    </tr>\n",
              "    <tr>\n",
              "      <th>890</th>\n",
              "      <td>0</td>\n",
              "      <td>3</td>\n",
              "      <td>male</td>\n",
              "      <td>32.0</td>\n",
              "      <td>0</td>\n",
              "      <td>0</td>\n",
              "      <td>7.75</td>\n",
              "      <td>Q</td>\n",
              "      <td>Third</td>\n",
              "      <td>man</td>\n",
              "      <td>True</td>\n",
              "      <td>NaN</td>\n",
              "      <td>Queenstown</td>\n",
              "      <td>no</td>\n",
              "      <td>True</td>\n",
              "      <td>adult</td>\n",
              "    </tr>\n",
              "  </tbody>\n",
              "</table>\n",
              "</div>"
            ],
            "text/plain": [
              "     survived  pclass     sex   age  ...  embark_town  alive  alone adult/child\n",
              "886         0       2    male  27.0  ...  Southampton     no   True       adult\n",
              "887         1       1  female  19.0  ...  Southampton    yes   True       child\n",
              "888         0       3  female   NaN  ...  Southampton     no  False       child\n",
              "889         1       1    male  26.0  ...    Cherbourg    yes   True       adult\n",
              "890         0       3    male  32.0  ...   Queenstown     no   True       adult\n",
              "\n",
              "[5 rows x 16 columns]"
            ]
          },
          "metadata": {
            "tags": []
          },
          "execution_count": 24
        }
      ]
    },
    {
      "cell_type": "markdown",
      "metadata": {
        "id": "UyMDL4tMBtCz"
      },
      "source": [
        "**<스스로> 연습문제**\n",
        "````{admonition} 연습 문제 4.4.4\n",
        "\n",
        "타이타닉호의 승객에 대해 나이와 성별에 의한 카테고리 열인 `category1` 열을 만들어라. `category1` 카테고리는 다음과 같이 정의된다.\n",
        "\n",
        "1. 20살이 넘으면 성별을 그대로 사용한다.\n",
        "2. 20살 미만이면 성별에 관계없이 \"child\"라고 한다.\n",
        "\n",
        "````"
      ]
    },
    {
      "cell_type": "code",
      "metadata": {
        "colab": {
          "base_uri": "https://localhost:8080/",
          "height": 419
        },
        "id": "P1S_1nDQId0l",
        "outputId": "e5f6ad27-2350-40c1-b702-a43bc588d34b"
      },
      "source": [
        "titanic_new=titanic\r\n",
        "titanic_new['category1'] = np.where(titanic_new['age']>20,titanic_new['sex'],'child')\r\n",
        "titanic_new"
      ],
      "execution_count": 95,
      "outputs": [
        {
          "output_type": "execute_result",
          "data": {
            "text/html": [
              "<div>\n",
              "<style scoped>\n",
              "    .dataframe tbody tr th:only-of-type {\n",
              "        vertical-align: middle;\n",
              "    }\n",
              "\n",
              "    .dataframe tbody tr th {\n",
              "        vertical-align: top;\n",
              "    }\n",
              "\n",
              "    .dataframe thead th {\n",
              "        text-align: right;\n",
              "    }\n",
              "</style>\n",
              "<table border=\"1\" class=\"dataframe\">\n",
              "  <thead>\n",
              "    <tr style=\"text-align: right;\">\n",
              "      <th></th>\n",
              "      <th>survived</th>\n",
              "      <th>pclass</th>\n",
              "      <th>sex</th>\n",
              "      <th>age</th>\n",
              "      <th>sibsp</th>\n",
              "      <th>parch</th>\n",
              "      <th>fare</th>\n",
              "      <th>embarked</th>\n",
              "      <th>class</th>\n",
              "      <th>who</th>\n",
              "      <th>adult_male</th>\n",
              "      <th>deck</th>\n",
              "      <th>embark_town</th>\n",
              "      <th>alive</th>\n",
              "      <th>alone</th>\n",
              "      <th>adult/child</th>\n",
              "      <th>category1</th>\n",
              "    </tr>\n",
              "  </thead>\n",
              "  <tbody>\n",
              "    <tr>\n",
              "      <th>0</th>\n",
              "      <td>0</td>\n",
              "      <td>3</td>\n",
              "      <td>male</td>\n",
              "      <td>22.0</td>\n",
              "      <td>1</td>\n",
              "      <td>0</td>\n",
              "      <td>7.2500</td>\n",
              "      <td>S</td>\n",
              "      <td>Third</td>\n",
              "      <td>man</td>\n",
              "      <td>True</td>\n",
              "      <td>NaN</td>\n",
              "      <td>Southampton</td>\n",
              "      <td>no</td>\n",
              "      <td>False</td>\n",
              "      <td>adult</td>\n",
              "      <td>male</td>\n",
              "    </tr>\n",
              "    <tr>\n",
              "      <th>1</th>\n",
              "      <td>1</td>\n",
              "      <td>1</td>\n",
              "      <td>female</td>\n",
              "      <td>38.0</td>\n",
              "      <td>1</td>\n",
              "      <td>0</td>\n",
              "      <td>71.2833</td>\n",
              "      <td>C</td>\n",
              "      <td>First</td>\n",
              "      <td>woman</td>\n",
              "      <td>False</td>\n",
              "      <td>C</td>\n",
              "      <td>Cherbourg</td>\n",
              "      <td>yes</td>\n",
              "      <td>False</td>\n",
              "      <td>adult</td>\n",
              "      <td>female</td>\n",
              "    </tr>\n",
              "    <tr>\n",
              "      <th>2</th>\n",
              "      <td>1</td>\n",
              "      <td>3</td>\n",
              "      <td>female</td>\n",
              "      <td>26.0</td>\n",
              "      <td>0</td>\n",
              "      <td>0</td>\n",
              "      <td>7.9250</td>\n",
              "      <td>S</td>\n",
              "      <td>Third</td>\n",
              "      <td>woman</td>\n",
              "      <td>False</td>\n",
              "      <td>NaN</td>\n",
              "      <td>Southampton</td>\n",
              "      <td>yes</td>\n",
              "      <td>True</td>\n",
              "      <td>adult</td>\n",
              "      <td>female</td>\n",
              "    </tr>\n",
              "    <tr>\n",
              "      <th>3</th>\n",
              "      <td>1</td>\n",
              "      <td>1</td>\n",
              "      <td>female</td>\n",
              "      <td>35.0</td>\n",
              "      <td>1</td>\n",
              "      <td>0</td>\n",
              "      <td>53.1000</td>\n",
              "      <td>S</td>\n",
              "      <td>First</td>\n",
              "      <td>woman</td>\n",
              "      <td>False</td>\n",
              "      <td>C</td>\n",
              "      <td>Southampton</td>\n",
              "      <td>yes</td>\n",
              "      <td>False</td>\n",
              "      <td>adult</td>\n",
              "      <td>female</td>\n",
              "    </tr>\n",
              "    <tr>\n",
              "      <th>4</th>\n",
              "      <td>0</td>\n",
              "      <td>3</td>\n",
              "      <td>male</td>\n",
              "      <td>35.0</td>\n",
              "      <td>0</td>\n",
              "      <td>0</td>\n",
              "      <td>8.0500</td>\n",
              "      <td>S</td>\n",
              "      <td>Third</td>\n",
              "      <td>man</td>\n",
              "      <td>True</td>\n",
              "      <td>NaN</td>\n",
              "      <td>Southampton</td>\n",
              "      <td>no</td>\n",
              "      <td>True</td>\n",
              "      <td>adult</td>\n",
              "      <td>male</td>\n",
              "    </tr>\n",
              "    <tr>\n",
              "      <th>...</th>\n",
              "      <td>...</td>\n",
              "      <td>...</td>\n",
              "      <td>...</td>\n",
              "      <td>...</td>\n",
              "      <td>...</td>\n",
              "      <td>...</td>\n",
              "      <td>...</td>\n",
              "      <td>...</td>\n",
              "      <td>...</td>\n",
              "      <td>...</td>\n",
              "      <td>...</td>\n",
              "      <td>...</td>\n",
              "      <td>...</td>\n",
              "      <td>...</td>\n",
              "      <td>...</td>\n",
              "      <td>...</td>\n",
              "      <td>...</td>\n",
              "    </tr>\n",
              "    <tr>\n",
              "      <th>886</th>\n",
              "      <td>0</td>\n",
              "      <td>2</td>\n",
              "      <td>male</td>\n",
              "      <td>27.0</td>\n",
              "      <td>0</td>\n",
              "      <td>0</td>\n",
              "      <td>13.0000</td>\n",
              "      <td>S</td>\n",
              "      <td>Second</td>\n",
              "      <td>man</td>\n",
              "      <td>True</td>\n",
              "      <td>NaN</td>\n",
              "      <td>Southampton</td>\n",
              "      <td>no</td>\n",
              "      <td>True</td>\n",
              "      <td>adult</td>\n",
              "      <td>male</td>\n",
              "    </tr>\n",
              "    <tr>\n",
              "      <th>887</th>\n",
              "      <td>1</td>\n",
              "      <td>1</td>\n",
              "      <td>female</td>\n",
              "      <td>19.0</td>\n",
              "      <td>0</td>\n",
              "      <td>0</td>\n",
              "      <td>30.0000</td>\n",
              "      <td>S</td>\n",
              "      <td>First</td>\n",
              "      <td>woman</td>\n",
              "      <td>False</td>\n",
              "      <td>B</td>\n",
              "      <td>Southampton</td>\n",
              "      <td>yes</td>\n",
              "      <td>True</td>\n",
              "      <td>child</td>\n",
              "      <td>child</td>\n",
              "    </tr>\n",
              "    <tr>\n",
              "      <th>888</th>\n",
              "      <td>0</td>\n",
              "      <td>3</td>\n",
              "      <td>female</td>\n",
              "      <td>NaN</td>\n",
              "      <td>1</td>\n",
              "      <td>2</td>\n",
              "      <td>23.4500</td>\n",
              "      <td>S</td>\n",
              "      <td>Third</td>\n",
              "      <td>woman</td>\n",
              "      <td>False</td>\n",
              "      <td>NaN</td>\n",
              "      <td>Southampton</td>\n",
              "      <td>no</td>\n",
              "      <td>False</td>\n",
              "      <td>child</td>\n",
              "      <td>child</td>\n",
              "    </tr>\n",
              "    <tr>\n",
              "      <th>889</th>\n",
              "      <td>1</td>\n",
              "      <td>1</td>\n",
              "      <td>male</td>\n",
              "      <td>26.0</td>\n",
              "      <td>0</td>\n",
              "      <td>0</td>\n",
              "      <td>30.0000</td>\n",
              "      <td>C</td>\n",
              "      <td>First</td>\n",
              "      <td>man</td>\n",
              "      <td>True</td>\n",
              "      <td>C</td>\n",
              "      <td>Cherbourg</td>\n",
              "      <td>yes</td>\n",
              "      <td>True</td>\n",
              "      <td>adult</td>\n",
              "      <td>male</td>\n",
              "    </tr>\n",
              "    <tr>\n",
              "      <th>890</th>\n",
              "      <td>0</td>\n",
              "      <td>3</td>\n",
              "      <td>male</td>\n",
              "      <td>32.0</td>\n",
              "      <td>0</td>\n",
              "      <td>0</td>\n",
              "      <td>7.7500</td>\n",
              "      <td>Q</td>\n",
              "      <td>Third</td>\n",
              "      <td>man</td>\n",
              "      <td>True</td>\n",
              "      <td>NaN</td>\n",
              "      <td>Queenstown</td>\n",
              "      <td>no</td>\n",
              "      <td>True</td>\n",
              "      <td>adult</td>\n",
              "      <td>male</td>\n",
              "    </tr>\n",
              "  </tbody>\n",
              "</table>\n",
              "<p>891 rows × 17 columns</p>\n",
              "</div>"
            ],
            "text/plain": [
              "     survived  pclass     sex   age  ...  alive  alone  adult/child category1\n",
              "0           0       3    male  22.0  ...     no  False        adult      male\n",
              "1           1       1  female  38.0  ...    yes  False        adult    female\n",
              "2           1       3  female  26.0  ...    yes   True        adult    female\n",
              "3           1       1  female  35.0  ...    yes  False        adult    female\n",
              "4           0       3    male  35.0  ...     no   True        adult      male\n",
              "..        ...     ...     ...   ...  ...    ...    ...          ...       ...\n",
              "886         0       2    male  27.0  ...     no   True        adult      male\n",
              "887         1       1  female  19.0  ...    yes   True        child     child\n",
              "888         0       3  female   NaN  ...     no  False        child     child\n",
              "889         1       1    male  26.0  ...    yes   True        adult      male\n",
              "890         0       3    male  32.0  ...     no   True        adult      male\n",
              "\n",
              "[891 rows x 17 columns]"
            ]
          },
          "metadata": {
            "tags": []
          },
          "execution_count": 95
        }
      ]
    },
    {
      "cell_type": "markdown",
      "metadata": {
        "id": "Io7jwd9uBtC2"
      },
      "source": [
        "## `fillna` 메서드"
      ]
    },
    {
      "cell_type": "markdown",
      "metadata": {
        "school_cell_uuid": "90019eeec686415286bd4da74527c3ce",
        "id": "_009cEfeBtC2"
      },
      "source": [
        "NaN 값은 `fillna` 메서드를 사용하여 원하는 값으로 바꿀 수 있다."
      ]
    },
    {
      "cell_type": "markdown",
      "metadata": {
        "id": "I9bH5rLqWLsj"
      },
      "source": [
        "[fillna official document](https://pandas.pydata.org/pandas-docs/stable/reference/api/pandas.DataFrame.fillna.html)"
      ]
    },
    {
      "cell_type": "code",
      "metadata": {
        "school_cell_uuid": "1b2fea7973bb4359b350583d8be07024",
        "id": "JXdTQFNaBtC3",
        "colab": {
          "base_uri": "https://localhost:8080/",
          "height": 204
        },
        "outputId": "be2fce9a-0120-4694-e9a2-316d50c96f6d"
      },
      "source": [
        "df3.apply(pd.value_counts).fillna(0.0)"
      ],
      "execution_count": 25,
      "outputs": [
        {
          "output_type": "execute_result",
          "data": {
            "text/html": [
              "<div>\n",
              "<style scoped>\n",
              "    .dataframe tbody tr th:only-of-type {\n",
              "        vertical-align: middle;\n",
              "    }\n",
              "\n",
              "    .dataframe tbody tr th {\n",
              "        vertical-align: top;\n",
              "    }\n",
              "\n",
              "    .dataframe thead th {\n",
              "        text-align: right;\n",
              "    }\n",
              "</style>\n",
              "<table border=\"1\" class=\"dataframe\">\n",
              "  <thead>\n",
              "    <tr style=\"text-align: right;\">\n",
              "      <th></th>\n",
              "      <th>A</th>\n",
              "      <th>B</th>\n",
              "      <th>C</th>\n",
              "    </tr>\n",
              "  </thead>\n",
              "  <tbody>\n",
              "    <tr>\n",
              "      <th>1</th>\n",
              "      <td>1.0</td>\n",
              "      <td>1.0</td>\n",
              "      <td>1.0</td>\n",
              "    </tr>\n",
              "    <tr>\n",
              "      <th>2</th>\n",
              "      <td>0.0</td>\n",
              "      <td>2.0</td>\n",
              "      <td>1.0</td>\n",
              "    </tr>\n",
              "    <tr>\n",
              "      <th>3</th>\n",
              "      <td>2.0</td>\n",
              "      <td>2.0</td>\n",
              "      <td>0.0</td>\n",
              "    </tr>\n",
              "    <tr>\n",
              "      <th>4</th>\n",
              "      <td>2.0</td>\n",
              "      <td>0.0</td>\n",
              "      <td>2.0</td>\n",
              "    </tr>\n",
              "    <tr>\n",
              "      <th>5</th>\n",
              "      <td>0.0</td>\n",
              "      <td>0.0</td>\n",
              "      <td>1.0</td>\n",
              "    </tr>\n",
              "  </tbody>\n",
              "</table>\n",
              "</div>"
            ],
            "text/plain": [
              "     A    B    C\n",
              "1  1.0  1.0  1.0\n",
              "2  0.0  2.0  1.0\n",
              "3  2.0  2.0  0.0\n",
              "4  2.0  0.0  2.0\n",
              "5  0.0  0.0  1.0"
            ]
          },
          "metadata": {
            "tags": []
          },
          "execution_count": 25
        }
      ]
    },
    {
      "cell_type": "markdown",
      "metadata": {
        "id": "Vvju4rWvBtC4"
      },
      "source": [
        "**<스스로> 연습문제**\n",
        "````{admonition} 연습 문제 4.4.5\n",
        "\n",
        "타이타닉호의 승객 중 나이를 명시하지 않은 고객은 나이를 명시한 고객의 평균 나이 값이 되도록 titanic 데이터프레임을 고쳐라.\n",
        "\n",
        "````"
      ]
    },
    {
      "cell_type": "code",
      "metadata": {
        "colab": {
          "base_uri": "https://localhost:8080/"
        },
        "id": "TJiZmK2UTzM4",
        "outputId": "7bc190b1-851a-4a23-9d41-7108c8377591"
      },
      "source": [
        "titanic_new2=titanic\r\n",
        "mean_age=titanic_new2['age'].mean()\r\n",
        "titanic_new2['age']=titanic_new2['age'].fillna(mean_age)\r\n",
        "print(titanic_new2)"
      ],
      "execution_count": 119,
      "outputs": [
        {
          "output_type": "stream",
          "text": [
            "     survived  pclass     sex        age  ...  alive  alone  adult/child category1\n",
            "0           0       3    male  22.000000  ...     no  False        adult      male\n",
            "1           1       1  female  38.000000  ...    yes  False        adult    female\n",
            "2           1       3  female  26.000000  ...    yes   True        adult    female\n",
            "3           1       1  female  35.000000  ...    yes  False        adult    female\n",
            "4           0       3    male  35.000000  ...     no   True        adult      male\n",
            "..        ...     ...     ...        ...  ...    ...    ...          ...       ...\n",
            "886         0       2    male  27.000000  ...     no   True        adult      male\n",
            "887         1       1  female  19.000000  ...    yes   True        child     child\n",
            "888         0       3  female  29.699118  ...     no  False        child     child\n",
            "889         1       1    male  26.000000  ...    yes   True        adult      male\n",
            "890         0       3    male  32.000000  ...     no   True        adult      male\n",
            "\n",
            "[891 rows x 17 columns]\n"
          ],
          "name": "stdout"
        }
      ]
    },
    {
      "cell_type": "markdown",
      "metadata": {
        "id": "JGKD1OH-BtC4"
      },
      "source": [
        "## `astype` 메서드"
      ]
    },
    {
      "cell_type": "markdown",
      "metadata": {
        "id": "xTMNzdGJBtC5"
      },
      "source": [
        "`astype` 메서드로 전체 데이터의 자료형을 바꾸는 것도 가능하다."
      ]
    },
    {
      "cell_type": "code",
      "metadata": {
        "school_cell_uuid": "1b2fea7973bb4359b350583d8be07024",
        "id": "uwzVuWfqBtDo",
        "colab": {
          "base_uri": "https://localhost:8080/",
          "height": 204
        },
        "outputId": "bcf3280d-06c5-40d7-939d-c432d617e671"
      },
      "source": [
        "df3.apply(pd.value_counts).fillna(0).astype(int)"
      ],
      "execution_count": 113,
      "outputs": [
        {
          "output_type": "execute_result",
          "data": {
            "text/html": [
              "<div>\n",
              "<style scoped>\n",
              "    .dataframe tbody tr th:only-of-type {\n",
              "        vertical-align: middle;\n",
              "    }\n",
              "\n",
              "    .dataframe tbody tr th {\n",
              "        vertical-align: top;\n",
              "    }\n",
              "\n",
              "    .dataframe thead th {\n",
              "        text-align: right;\n",
              "    }\n",
              "</style>\n",
              "<table border=\"1\" class=\"dataframe\">\n",
              "  <thead>\n",
              "    <tr style=\"text-align: right;\">\n",
              "      <th></th>\n",
              "      <th>A</th>\n",
              "      <th>B</th>\n",
              "      <th>C</th>\n",
              "    </tr>\n",
              "  </thead>\n",
              "  <tbody>\n",
              "    <tr>\n",
              "      <th>1</th>\n",
              "      <td>1</td>\n",
              "      <td>1</td>\n",
              "      <td>1</td>\n",
              "    </tr>\n",
              "    <tr>\n",
              "      <th>2</th>\n",
              "      <td>0</td>\n",
              "      <td>2</td>\n",
              "      <td>1</td>\n",
              "    </tr>\n",
              "    <tr>\n",
              "      <th>3</th>\n",
              "      <td>2</td>\n",
              "      <td>2</td>\n",
              "      <td>0</td>\n",
              "    </tr>\n",
              "    <tr>\n",
              "      <th>4</th>\n",
              "      <td>2</td>\n",
              "      <td>0</td>\n",
              "      <td>2</td>\n",
              "    </tr>\n",
              "    <tr>\n",
              "      <th>5</th>\n",
              "      <td>0</td>\n",
              "      <td>0</td>\n",
              "      <td>1</td>\n",
              "    </tr>\n",
              "  </tbody>\n",
              "</table>\n",
              "</div>"
            ],
            "text/plain": [
              "   A  B  C\n",
              "1  1  1  1\n",
              "2  0  2  1\n",
              "3  2  2  0\n",
              "4  2  0  2\n",
              "5  0  0  1"
            ]
          },
          "metadata": {
            "tags": []
          },
          "execution_count": 113
        }
      ]
    },
    {
      "cell_type": "markdown",
      "metadata": {
        "id": "K3UISJVJBtDq"
      },
      "source": [
        "**<스스로> 연습문제**\n",
        "````{admonition} 연습 문제 4.4.6\n",
        "\n",
        "타이타닉호의 승객에 대해 나이와 성별에 의한 카테고리 열인 `category2` 열을 만들어라. `category2` 카테고리는 다음과 같이 정의된다.\n",
        "\n",
        "1. 성별을 나타내는 문자열 `male` 또는 `female`로 시작한다.\n",
        "2. 성별을 나타내는 문자열 뒤에 나이를 나타내는 문자열이 온다.\n",
        "3. 예를 들어 27살 남성은 `male27` 값이 된다.\n",
        "\n",
        "````"
      ]
    },
    {
      "cell_type": "code",
      "metadata": {
        "colab": {
          "base_uri": "https://localhost:8080/"
        },
        "id": "e-pc63NxciQA",
        "outputId": "c07a0b6b-3e32-407e-e7e3-955d5673caa2"
      },
      "source": [
        "titanic_new3=titanic\r\n",
        "titanic_new3['category2']=titanic_new3['sex']+titanic_age.astype(str);\r\n",
        "print(titanic_new3)"
      ],
      "execution_count": 126,
      "outputs": [
        {
          "output_type": "stream",
          "text": [
            "     survived  pclass     sex  ...  adult/child  category1   category2\n",
            "0           0       3    male  ...        adult       male    male22.0\n",
            "1           1       1  female  ...        adult     female  female38.0\n",
            "2           1       3  female  ...        adult     female  female26.0\n",
            "3           1       1  female  ...        adult     female  female35.0\n",
            "4           0       3    male  ...        adult       male    male35.0\n",
            "..        ...     ...     ...  ...          ...        ...         ...\n",
            "886         0       2    male  ...        adult       male    male27.0\n",
            "887         1       1  female  ...        child      child  female19.0\n",
            "888         0       3  female  ...        child      child   femalenan\n",
            "889         1       1    male  ...        adult       male    male26.0\n",
            "890         0       3    male  ...        adult       male    male32.0\n",
            "\n",
            "[891 rows x 18 columns]\n"
          ],
          "name": "stdout"
        }
      ]
    },
    {
      "cell_type": "markdown",
      "metadata": {
        "school_cell_uuid": "577d980581ce450c93dd3e89b7fdaf26",
        "id": "WE4gZIcrBtEB"
      },
      "source": [
        "## 실수 값을 카테고리 값으로 변환"
      ]
    },
    {
      "cell_type": "markdown",
      "metadata": {
        "school_cell_uuid": "4d619cf8f65a4b5e83eb0f37bdf116cf",
        "id": "81UCoXI9BtED"
      },
      "source": [
        "실수 값을 크기 기준으로 하여 카테고리 값으로 변환하고 싶을 때는 다음과 같은 명령을 사용한다.\n",
        "\n",
        "* `cut`: 실수 값의 경계선을 지정하는 경우\n",
        "* `qcut`: 갯수가 똑같은 구간으로 나누는 경우"
      ]
    },
    {
      "cell_type": "markdown",
      "metadata": {
        "school_cell_uuid": "542343aa2e4a4a089a12631a5b90884a",
        "id": "oRHnsCpbBtEE"
      },
      "source": [
        "예를 들어 다음과 같은 나이 데이터가 있다고 하자."
      ]
    },
    {
      "cell_type": "code",
      "metadata": {
        "school_cell_uuid": "99df3602984b4d6b887eefd783f659b8",
        "id": "qsaw_EptBtEF"
      },
      "source": [
        "ages = [0, 2, 10, 21, 23, 37, 31, 61, 20, 41, 32, 101]"
      ],
      "execution_count": 27,
      "outputs": []
    },
    {
      "cell_type": "markdown",
      "metadata": {
        "school_cell_uuid": "f4effa6983944a0da9299a2e921f2af4",
        "id": "lXzoU-1UBtEG"
      },
      "source": [
        "`cut` 명령을 사용하면 실수값을 다음처럼 카테고리 값으로 바꿀 수 있다. `bins` 인수는 **카테고리를 나누는 기준값**이 된다. 영역을 넘는 값은 NaN으로 처리된다."
      ]
    },
    {
      "cell_type": "code",
      "metadata": {
        "school_cell_uuid": "c40da6498b75442e8c383aaeeef59ef4",
        "id": "IBi1xMfQBtEG",
        "colab": {
          "base_uri": "https://localhost:8080/"
        },
        "outputId": "3e00b155-3ae2-41db-8363-b1f6469c3c25"
      },
      "source": [
        "bins = [1, 20, 30, 50, 70, 100]\n",
        "labels = [\"미성년자\", \"청년\", \"중년\", \"장년\", \"노년\"]\n",
        "cats = pd.cut(ages, bins, labels=labels)\n",
        "cats"
      ],
      "execution_count": 28,
      "outputs": [
        {
          "output_type": "execute_result",
          "data": {
            "text/plain": [
              "[NaN, '미성년자', '미성년자', '청년', '청년', ..., '장년', '미성년자', '중년', '중년', NaN]\n",
              "Length: 12\n",
              "Categories (5, object): ['미성년자' < '청년' < '중년' < '장년' < '노년']"
            ]
          },
          "metadata": {
            "tags": []
          },
          "execution_count": 28
        }
      ]
    },
    {
      "cell_type": "markdown",
      "metadata": {
        "school_cell_uuid": "c1968d5fb26c49dd96caae34f1a6ee81",
        "id": "M062JK-6BtEH"
      },
      "source": [
        "`cut` 명령이 반환하는 값은 **`Categorical` 클래스 객체**이다. 이 객체는 `categories` 속성으로 라벨 문자열을,  `codes` 속성으로 정수로 인코딩한 카테고리 값을 가진다."
      ]
    },
    {
      "cell_type": "code",
      "metadata": {
        "school_cell_uuid": "dc3697983615455583e6e98d36ae70e3",
        "id": "gJbwXwy5BtEI",
        "colab": {
          "base_uri": "https://localhost:8080/"
        },
        "outputId": "0fbbce6c-54ab-445e-8193-55f6ad95a77f"
      },
      "source": [
        "type(cats)"
      ],
      "execution_count": 29,
      "outputs": [
        {
          "output_type": "execute_result",
          "data": {
            "text/plain": [
              "pandas.core.arrays.categorical.Categorical"
            ]
          },
          "metadata": {
            "tags": []
          },
          "execution_count": 29
        }
      ]
    },
    {
      "cell_type": "code",
      "metadata": {
        "school_cell_uuid": "7f79041f92664a158ef5912bbdf939e6",
        "id": "g6fD8pcmBtEK",
        "colab": {
          "base_uri": "https://localhost:8080/"
        },
        "outputId": "9686a2dc-907f-4ec9-d56e-e4388a7a1c53"
      },
      "source": [
        "cats.categories"
      ],
      "execution_count": 30,
      "outputs": [
        {
          "output_type": "execute_result",
          "data": {
            "text/plain": [
              "Index(['미성년자', '청년', '중년', '장년', '노년'], dtype='object')"
            ]
          },
          "metadata": {
            "tags": []
          },
          "execution_count": 30
        }
      ]
    },
    {
      "cell_type": "code",
      "metadata": {
        "school_cell_uuid": "3864753d5bce42ae8cde949ada360e3b",
        "id": "a_BD3f7_BtEM",
        "colab": {
          "base_uri": "https://localhost:8080/"
        },
        "outputId": "5fdd9846-0a04-4b98-cf14-1fb1327b9b48"
      },
      "source": [
        "cats.codes"
      ],
      "execution_count": 31,
      "outputs": [
        {
          "output_type": "execute_result",
          "data": {
            "text/plain": [
              "array([-1,  0,  0,  1,  1,  2,  2,  3,  0,  2,  2, -1], dtype=int8)"
            ]
          },
          "metadata": {
            "tags": []
          },
          "execution_count": 31
        }
      ]
    },
    {
      "cell_type": "code",
      "metadata": {
        "school_cell_uuid": "f12a4b9cff6d4c32b69ff869af092c59",
        "id": "CQvbEv-vBtEM",
        "colab": {
          "base_uri": "https://localhost:8080/",
          "height": 421
        },
        "outputId": "e0bd0f7e-f62f-4c53-9c55-204c24b81142"
      },
      "source": [
        "df4 = pd.DataFrame(ages, columns=[\"ages\"])\n",
        "df4[\"age_cat\"] = pd.cut(df4.ages, bins, labels=labels)\n",
        "df4"
      ],
      "execution_count": 32,
      "outputs": [
        {
          "output_type": "execute_result",
          "data": {
            "text/html": [
              "<div>\n",
              "<style scoped>\n",
              "    .dataframe tbody tr th:only-of-type {\n",
              "        vertical-align: middle;\n",
              "    }\n",
              "\n",
              "    .dataframe tbody tr th {\n",
              "        vertical-align: top;\n",
              "    }\n",
              "\n",
              "    .dataframe thead th {\n",
              "        text-align: right;\n",
              "    }\n",
              "</style>\n",
              "<table border=\"1\" class=\"dataframe\">\n",
              "  <thead>\n",
              "    <tr style=\"text-align: right;\">\n",
              "      <th></th>\n",
              "      <th>ages</th>\n",
              "      <th>age_cat</th>\n",
              "    </tr>\n",
              "  </thead>\n",
              "  <tbody>\n",
              "    <tr>\n",
              "      <th>0</th>\n",
              "      <td>0</td>\n",
              "      <td>NaN</td>\n",
              "    </tr>\n",
              "    <tr>\n",
              "      <th>1</th>\n",
              "      <td>2</td>\n",
              "      <td>미성년자</td>\n",
              "    </tr>\n",
              "    <tr>\n",
              "      <th>2</th>\n",
              "      <td>10</td>\n",
              "      <td>미성년자</td>\n",
              "    </tr>\n",
              "    <tr>\n",
              "      <th>3</th>\n",
              "      <td>21</td>\n",
              "      <td>청년</td>\n",
              "    </tr>\n",
              "    <tr>\n",
              "      <th>4</th>\n",
              "      <td>23</td>\n",
              "      <td>청년</td>\n",
              "    </tr>\n",
              "    <tr>\n",
              "      <th>5</th>\n",
              "      <td>37</td>\n",
              "      <td>중년</td>\n",
              "    </tr>\n",
              "    <tr>\n",
              "      <th>6</th>\n",
              "      <td>31</td>\n",
              "      <td>중년</td>\n",
              "    </tr>\n",
              "    <tr>\n",
              "      <th>7</th>\n",
              "      <td>61</td>\n",
              "      <td>장년</td>\n",
              "    </tr>\n",
              "    <tr>\n",
              "      <th>8</th>\n",
              "      <td>20</td>\n",
              "      <td>미성년자</td>\n",
              "    </tr>\n",
              "    <tr>\n",
              "      <th>9</th>\n",
              "      <td>41</td>\n",
              "      <td>중년</td>\n",
              "    </tr>\n",
              "    <tr>\n",
              "      <th>10</th>\n",
              "      <td>32</td>\n",
              "      <td>중년</td>\n",
              "    </tr>\n",
              "    <tr>\n",
              "      <th>11</th>\n",
              "      <td>101</td>\n",
              "      <td>NaN</td>\n",
              "    </tr>\n",
              "  </tbody>\n",
              "</table>\n",
              "</div>"
            ],
            "text/plain": [
              "    ages age_cat\n",
              "0      0     NaN\n",
              "1      2    미성년자\n",
              "2     10    미성년자\n",
              "3     21      청년\n",
              "4     23      청년\n",
              "5     37      중년\n",
              "6     31      중년\n",
              "7     61      장년\n",
              "8     20    미성년자\n",
              "9     41      중년\n",
              "10    32      중년\n",
              "11   101     NaN"
            ]
          },
          "metadata": {
            "tags": []
          },
          "execution_count": 32
        }
      ]
    },
    {
      "cell_type": "markdown",
      "metadata": {
        "id": "zkpW8d1bBtEQ"
      },
      "source": [
        "따라서 위 데이터프레임의 age_cat 열값은 문자열이 아니다. 이를 문자열로 만들려면 `astype` 메서드를 사용해야 한다."
      ]
    },
    {
      "cell_type": "code",
      "metadata": {
        "id": "on4fuF9jBtEQ",
        "colab": {
          "base_uri": "https://localhost:8080/"
        },
        "outputId": "1534db2d-5e64-46ac-9de2-3772e18fab4d"
      },
      "source": [
        "df4.age_cat.astype(str) + df4.ages.astype(str)"
      ],
      "execution_count": 33,
      "outputs": [
        {
          "output_type": "execute_result",
          "data": {
            "text/plain": [
              "0       nan0\n",
              "1      미성년자2\n",
              "2     미성년자10\n",
              "3       청년21\n",
              "4       청년23\n",
              "5       중년37\n",
              "6       중년31\n",
              "7       장년61\n",
              "8     미성년자20\n",
              "9       중년41\n",
              "10      중년32\n",
              "11    nan101\n",
              "dtype: object"
            ]
          },
          "metadata": {
            "tags": []
          },
          "execution_count": 33
        }
      ]
    },
    {
      "cell_type": "markdown",
      "metadata": {
        "school_cell_uuid": "b9b478ddb13643988ddc5ba0ca89dfae",
        "id": "7I0Y8llOBtES"
      },
      "source": [
        "`qcut` 명령은 구간 경계선을 지정하지 않고 데이터 갯수가 같도록 지정한 수의 구간으로 나눈다. 예를 들어 다음 코드는 1000개의 데이터를 4개의 구간으로 나누는데 각 구간은 250개씩의 데이터를 가진다."
      ]
    },
    {
      "cell_type": "code",
      "metadata": {
        "school_cell_uuid": "e7d988c3a6a048eb93552b21042a4b69",
        "id": "_n1US1KZBtES",
        "colab": {
          "base_uri": "https://localhost:8080/"
        },
        "outputId": "313aa989-680a-40e4-c070-037a7179a319"
      },
      "source": [
        "data = np.random.randn(1000)\n",
        "cats = pd.qcut(data, 4, labels=[\"Q1\", \"Q2\", \"Q3\", \"Q4\"])\n",
        "cats"
      ],
      "execution_count": 34,
      "outputs": [
        {
          "output_type": "execute_result",
          "data": {
            "text/plain": [
              "['Q2', 'Q1', 'Q2', 'Q3', 'Q1', ..., 'Q1', 'Q1', 'Q4', 'Q4', 'Q2']\n",
              "Length: 1000\n",
              "Categories (4, object): ['Q1' < 'Q2' < 'Q3' < 'Q4']"
            ]
          },
          "metadata": {
            "tags": []
          },
          "execution_count": 34
        }
      ]
    },
    {
      "cell_type": "code",
      "metadata": {
        "school_cell_uuid": "3bb43c9788744d728a8d874986fa60d9",
        "id": "wcdNeUlfBtEW",
        "colab": {
          "base_uri": "https://localhost:8080/"
        },
        "outputId": "0166125a-1961-4535-8ec0-4bdeed20f810"
      },
      "source": [
        "pd.value_counts(cats)"
      ],
      "execution_count": 35,
      "outputs": [
        {
          "output_type": "execute_result",
          "data": {
            "text/plain": [
              "Q4    250\n",
              "Q3    250\n",
              "Q2    250\n",
              "Q1    250\n",
              "dtype: int64"
            ]
          },
          "metadata": {
            "tags": []
          },
          "execution_count": 35
        }
      ]
    },
    {
      "cell_type": "markdown",
      "metadata": {
        "bootstrap": {
          "panel": {
            "class": "panel-default"
          }
        },
        "school_cell_uuid": "8493e72b7359403ebc0d8c3df945d6bf",
        "id": "fxTig7GvBtEc"
      },
      "source": [
        "**<스스로> 연습문제**\n",
        "````{admonition} 연습 문제 4.4.7\n",
        "\n",
        "타이타닉호 승객을 '미성년자', '청년', '중년', '장년', '노년' 나이 그룹으로 나눈다.\n",
        "\n",
        "```\n",
        "bins = [1, 20, 30, 50, 70, 100]\n",
        "labels = [\"미성년자\", \"청년\", \"중년\", \"장년\", \"노년\"]\n",
        "```\n",
        "\n",
        "그리고 각 나이 그룹의 승객 비율을 구한다. 비율의 전체 합은 1이 되어야 한다.\n",
        "````"
      ]
    },
    {
      "cell_type": "code",
      "metadata": {
        "colab": {
          "base_uri": "https://localhost:8080/"
        },
        "id": "RxMd3q1gjKRX",
        "outputId": "7b47d209-d568-420f-b82c-599eff693b78"
      },
      "source": [
        "bins = [1, 20, 30, 50, 70, 100]\r\n",
        "labels = [\"미성년자\", \"청년\", \"중년\", \"장년\", \"노년\"]\r\n",
        "era=pd.cut(titanic['age'],bins,labels=labels)\r\n",
        "divided=era.value_counts()\r\n",
        "print(divided['미성년자']/divided.sum())\r\n",
        "print(divided['청년']/divided.sum())\r\n",
        "print(divided['중년']/divided.sum())\r\n",
        "print(divided['장년']/divided.sum())\r\n",
        "print(divided['노년']/divided.sum())"
      ],
      "execution_count": 138,
      "outputs": [
        {
          "output_type": "stream",
          "text": [
            "0.18814139110604333\n",
            "0.4640820980615735\n",
            "0.2748004561003421\n",
            "0.06727480045610035\n",
            "0.005701254275940707\n"
          ],
          "name": "stdout"
        }
      ]
    },
    {
      "cell_type": "markdown",
      "metadata": {
        "id": "esW-q_f5BtEz"
      },
      "source": [
        "**<스스로> 연습문제**\n",
        "````{admonition} 연습 문제 4.4.8\n",
        "\n",
        "타이타닉호의 승객에 대해 나이와 성별에 의한 카테고리 열인 `category3` 열을 만들어라. `category3` 카테고리는 다음과 같이 정의된다.\n",
        "\n",
        "1. 20살 미만이면 성별에 관계없이 \"미성년자\"라고 한다.\n",
        "2. 20살 이상이면 나이에 따라 \"청년\", \"중년\", \"장년\", \"노년\"을 구분하고 그 뒤에 성별을 나타내는 \"남성\", \"여성\"을 붙인다.\n",
        "\n",
        "````"
      ]
    },
    {
      "cell_type": "code",
      "metadata": {
        "id": "BUPxGDVfBtE0",
        "colab": {
          "base_uri": "https://localhost:8080/"
        },
        "outputId": "6a0c4dec-2dba-4b6a-e9b7-6c87cc5fa88b"
      },
      "source": [
        "titanic_new3=titanic\r\n",
        "titanic_new3['era']=era\r\n",
        "titanic_new3['category3']=np.where(titanic_new3['age']>20,titanic_new3['era'].astype(str)+np.where(titanic_new3['sex']=='female','여성','남성').astype(str),'미성년자')\r\n",
        "print(titanic_new3)"
      ],
      "execution_count": 146,
      "outputs": [
        {
          "output_type": "stream",
          "text": [
            "     survived  pclass     sex        age  ...  category1   category2  category3   era\n",
            "0           0       3    male  22.000000  ...       male    male22.0       청년남성    청년\n",
            "1           1       1  female  38.000000  ...     female  female38.0       중년여성    중년\n",
            "2           1       3  female  26.000000  ...     female  female26.0       청년여성    청년\n",
            "3           1       1  female  35.000000  ...     female  female35.0       중년여성    중년\n",
            "4           0       3    male  35.000000  ...       male    male35.0       중년남성    중년\n",
            "..        ...     ...     ...        ...  ...        ...         ...        ...   ...\n",
            "886         0       2    male  27.000000  ...       male    male27.0       청년남성    청년\n",
            "887         1       1  female  19.000000  ...      child  female19.0       미성년자  미성년자\n",
            "888         0       3  female  29.699118  ...      child   femalenan       청년여성    청년\n",
            "889         1       1    male  26.000000  ...       male    male26.0       청년남성    청년\n",
            "890         0       3    male  32.000000  ...       male    male32.0       중년남성    중년\n",
            "\n",
            "[891 rows x 20 columns]\n"
          ],
          "name": "stdout"
        }
      ]
    }
  ]
}