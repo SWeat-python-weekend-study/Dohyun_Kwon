{
  "nbformat": 4,
  "nbformat_minor": 0,
  "metadata": {
    "colab": {
      "name": "서울시 인구 통계 분석 (실습).ipynb",
      "provenance": [],
      "authorship_tag": "ABX9TyNPMfWDTSWfBy6pUeaUFA6z",
      "include_colab_link": true
    },
    "kernelspec": {
      "name": "python3",
      "display_name": "Python 3"
    }
  },
  "cells": [
    {
      "cell_type": "markdown",
      "metadata": {
        "id": "view-in-github",
        "colab_type": "text"
      },
      "source": [
        "<a href=\"https://colab.research.google.com/github/SWeat-python-weekend-study/Dohyun_Kwon/blob/main/%EC%84%9C%EC%9A%B8%EC%8B%9C_%EC%9D%B8%EA%B5%AC_%ED%86%B5%EA%B3%84_%EB%B6%84%EC%84%9D_(%EC%8B%A4%EC%8A%B5).ipynb\" target=\"_parent\"><img src=\"https://colab.research.google.com/assets/colab-badge.svg\" alt=\"Open In Colab\"/></a>"
      ]
    },
    {
      "cell_type": "code",
      "metadata": {
        "colab": {
          "base_uri": "https://localhost:8080/"
        },
        "id": "CCp93F0OMETx",
        "outputId": "dbbffdc5-1606-442d-cd5c-23e7d05f9047"
      },
      "source": [
        "with open('seoul_people_report.txt', 'r' , encoding='UTF-8-sig') as fr:\r\n",
        "  raw_list = [ _.strip() for _ in fr.readlines() ] # 라인별로 분할\r\n",
        "  raw_split = [_.split(',') for _ in raw_list ] # 각 라인을 , 로 분할\r\n",
        "district_dict = {}\r\n",
        "for data in raw_split[1:]: # 상단 헤더를 제외\r\n",
        "  ds_name = data[0]\r\n",
        "  _1, _2, _3, _4, _5 = ( int(_) for _ in data[1:])\r\n",
        "  district_dict[ ds_name ] = {'전체': _1, '남자': _2, '여자': _3, '외국인': _4, '고령자': _5}\r\n",
        "for k, v in district_dict.items():\r\n",
        "# 실습 구현\r\n",
        "  district_dict[k]['외국인비율'] = v['외국인'] / v['전체']\r\n",
        "  print(district_dict[k]['외국인비율'])\r\n",
        "  district_dict[k]['고령자비율'] = v['고령자'] / v['전체']\r\n",
        "  print(district_dict[k]['고령자비율'])\r\n",
        "# json 형태로 seoul_people_json 으로 저장\r\n",
        "\r\n",
        "\r\n",
        "#특정 기준 값이 기준치를 넘으면 그대로 출력, 미달이면 None\r\n",
        "F = lambda dataset, k, std:dataset[k] if dataset[k] > std else None\r\n",
        "\r\n",
        "for key, val in district_dict.items():\r\n",
        "  R = F(val, '고령자비율', 15)\r\n",
        "  if R is not None:\r\n",
        "    print(k, R)\r\n",
        "district_list = []\r\n",
        "\r\n",
        "#실습코딩\r\n",
        "#고령자 비율 15% 넘고, 외국인 비율 5%를 넘는 구의 인력현황\r\n",
        "#district_list에 위 조건에 맞는 딕셔너리들을 저장\r\n",
        "#district_list는 json을 이용하여 seoul_people_output 파일로 저장\r\n"
      ],
      "execution_count": 43,
      "outputs": [
        {
          "output_type": "stream",
          "text": [
            "0.02797404896312392\n",
            "0.15161495942441722\n",
            "0.06646952785460293\n",
            "0.17330724022125643\n",
            "0.07543105027515407\n",
            "0.17435461533388535\n",
            "0.06737757195377085\n",
            "0.1602136778177239\n",
            "0.026533807736504413\n",
            "0.14560227609353077\n",
            "0.04255034290554387\n",
            "0.13385338397223967\n",
            "0.04585810641329904\n",
            "0.16639516197942078\n",
            "0.012626098762597397\n",
            "0.1666275662751636\n",
            "0.026484383937764557\n",
            "0.1587830999797594\n",
            "0.011886345698500394\n",
            "0.19466456195737963\n",
            "0.006767717656936386\n",
            "0.17998170887119747\n",
            "0.008325007703153158\n",
            "0.15440293560163962\n",
            "0.009305525907288776\n",
            "0.17045277911914597\n",
            "0.04060759493670886\n",
            "0.16275565784426543\n",
            "0.029827551374564217\n",
            "0.13800811218225992\n",
            "0.009104687622141349\n",
            "0.13627934649492326\n",
            "0.010745287500650492\n",
            "0.14435381389719373\n",
            "0.07408260857661736\n",
            "0.15384615384615385\n",
            "0.07473843338504993\n",
            "0.15319250507220433\n",
            "0.08119011972349456\n",
            "0.1466847511895762\n",
            "0.03135835528025856\n",
            "0.155413656627481\n",
            "0.033460947389202224\n",
            "0.14838327571990972\n",
            "0.009735488188849612\n",
            "0.13415792511976743\n",
            "0.00926353614670357\n",
            "0.132028121578911\n",
            "0.009969407372485434\n",
            "0.13150423787934198\n",
            "0.009618372053334268\n",
            "0.14528424083563435\n"
          ],
          "name": "stdout"
        }
      ]
    }
  ]
}